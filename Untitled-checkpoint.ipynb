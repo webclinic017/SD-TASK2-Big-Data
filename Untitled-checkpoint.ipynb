{
 "cells": [
  {
   "cell_type": "code",
   "execution_count": 3,
   "id": "005657c5",
   "metadata": {
    "scrolled": true
   },
   "outputs": [],
   "source": [
    "import emoji\n",
    "import numpy as np\n",
    "import os\n",
    "import lithops\n",
    "from lithops.storage import Storage\n",
    "import numpy as np\n",
    "import pandas as pd\n",
    "import io\n",
    "import csv\n",
    "import re\n",
    "import operator\n",
    "import facebook\n"
   ]
  },
  {
   "cell_type": "code",
   "execution_count": 4,
   "id": "0a861033",
   "metadata": {},
   "outputs": [],
   "source": [
    "\n",
    "import sys\n",
    "try:\n",
    "    import lithops\n",
    "except:\n",
    "    !{sys.executable} -m pip install lithops\n",
    "    import lithops"
   ]
  },
  {
   "cell_type": "code",
   "execution_count": 5,
   "id": "a70c0bcc",
   "metadata": {
    "scrolled": true
   },
   "outputs": [],
   "source": [
    "config = {'ibm_cf':  {'endpoint' : 'https://eu-gb.functions.cloud.ibm.com',\n",
    "                      'namespace'   : 'ubenabdelkrim2@gmail.com_dev',\n",
    "                      'api_key'     : '7c45d3db-a61f-4ca6-afdd-45d749ebbda3:9Z1CfSBEeif85med0hgE9pefPC8KI6vrrCanErdmMKiajaMKKzfOd57TBQKF4E9I'}, \n",
    "          'ibm_cos': {'region'   : 'eu-de',\n",
    "                    'access_key' : '5286a241e5de460a96de29466c635424',\n",
    "                    'secret_key' : '1e4c0eaec93783aab1243240ffe8f0d90dbae5def4c9aeae'},\n",
    "          'lithops' : {'storage_bucket' : 'sd-task2'}}"
   ]
  },
  {
   "cell_type": "code",
   "execution_count": 6,
   "id": "6b4a9795",
   "metadata": {},
   "outputs": [
    {
     "name": "stderr",
     "output_type": "stream",
     "text": [
      "2021-06-19 11:29:47,628 [INFO] lithops.config -- Lithops v2.3.4\n",
      "2021-06-19 11:29:48,016 [INFO] lithops.storage.backends.ibm_cos.ibm_cos -- IBM COS Storage client created - Region: eu-de\n",
      "2021-06-19 11:29:48,018 [INFO] lithops.serverless.backends.ibm_cf.ibm_cf -- IBM CF client created - Region: eu-gb - Namespace: ubenabdelkrim2@gmail.com_dev\n",
      "2021-06-19 11:29:48,020 [INFO] lithops.executors -- Serverless Executor created with ID: 1448b1-0\n"
     ]
    }
   ],
   "source": [
    "fexec = lithops.FunctionExecutor(config=config)\n"
   ]
  },
  {
   "cell_type": "code",
   "execution_count": 7,
   "id": "30134bf5",
   "metadata": {},
   "outputs": [
    {
     "name": "stderr",
     "output_type": "stream",
     "text": [
      "2021-06-19 11:29:48,122 [INFO] lithops.storage.backends.ibm_cos.ibm_cos -- IBM COS Storage client created - Region: eu-de\n"
     ]
    }
   ],
   "source": [
    "storage=Storage()\n"
   ]
  },
  {
   "cell_type": "code",
   "execution_count": 8,
   "id": "6378ed82",
   "metadata": {},
   "outputs": [
    {
     "name": "stdout",
     "output_type": "stream",
     "text": [
      "[\" 'none'\", 'null', 'los  están sorteando un xiaomi mi participa desde aquí', 'los  y  esp están sorteado un mi participa aquí', 'increíble test de destrucción del samsung galaxy s edge  casi explota', 'puedo llevarme un samsung galaxy s gratis participa aquí', 'sorteo samsung galaxy s', 'nexus p international giveaway', 'galaxy s international giveaway', 'participo en el sorteo honor  de  amp  mas info  ó  sorteohonor', 'yo si participo en el sorteocellularline de  ¿y tu a que esperas', 'operamax ayuda a ahorrar los datos mientras ve netflix gana un nexus p nexus player o sphero bb   maxnetflix', 'directotfb', 'estoy participando en el sorteoxperiaz de  para ganarlo gratis ¡deseadme suerte', '¡voy a ganar el oneplus  que sortean en   oneplusandroall', 'oneplusandroall', 'participo en el sorteogalaxys de', '🏂⛷️🏂⛷️🏂⛷️🏂⛷️', 'el rey', 'os dejo el cuestionario en castellano', 'os agradceria mucho que contestárais a una encuesta mía en un momentín para un trabajo de bachillerato tdr y compartirlo al máximo de gente posible porfavor se necesita el máximo de gente posible está en catalánlink de la encuesta\\r', '']\n"
     ]
    }
   ],
   "source": [
    "dades = storage.get_object('sd-task2','dades.csv')\n",
    "x=dades.decode(\"utf-8\")\n",
    "\n",
    "\n",
    "missatges = []\n",
    "dades=x.split('\\n')\n",
    "for dada in dades:\n",
    "    missatges.append(dada.split(' '))\n",
    "    \n",
    "print(dades)"
   ]
  },
  {
   "cell_type": "code",
   "execution_count": 9,
   "id": "759178f5",
   "metadata": {},
   "outputs": [],
   "source": [
    "def cleaner(field):\n",
    "    field = re.sub(\"@[A-Za-z0-9]+\",\"\",field) #Remove @ sign\n",
    "    field = re.sub(r\"(?:\\@|http?\\://|https?\\://|www)\\S+\", \"\", field) #Remove http links\n",
    "    field = field.replace(\"#\", \"\").replace(\"_\", \" \") #Remove hashtag sign but keep the text\n",
    "    field = re.sub(r'\\d+', '', field)\n",
    "    field = field.translate(str.maketrans('', '', string.punctuation))\n",
    "    field = field.strip()\n",
    "    field = field.lower()\n",
    "    return field"
   ]
  },
  {
   "cell_type": "code",
   "execution_count": 10,
   "id": "fe2b83a5",
   "metadata": {},
   "outputs": [],
   "source": [
    "\n",
    "def countFrequency(my_list, freq):\n",
    " \n",
    "    # Creating an empty dictionary\n",
    "    for item in my_list:\n",
    "        if (item in freq.keys()):\n",
    "            freq[item] += 1\n",
    "    return freq\n",
    "            \n",
    "def political_analysis(texts):\n",
    "    ###clarification: all keywords have been selected based on the frequency of their use, rather than personal opinions\n",
    "    democrats_words = [\"family\", \"care\", \"cut\", \"support\", \"thank\", \"new\", \"student\", \"need\", \"help\", \"equal pay\", \"fair\", \n",
    "        \"bin laden\", \"wall street\", \"worker\", \"veteran\", \"fight\", \"invest\", \"education\", \"military\", \"war\", \"medicare\", \"science\", \n",
    "        \"forward\", \"women\", \"seniors\", \"biden\"]\n",
    "    republicans_words = [\"good\", \"security\", \"great\", \"unite\", \"senate\", \"thank\", \"good\", \"meet\", \"hear\", \"join\", \"government\", \n",
    "        \"flag\", \"church\", \"unemployment\", \"regulation\", \"obamacare\", \"fail\", \"better\", \"faith\", \"business\", \"small business\", \"romney\", \n",
    "        \"leadership\", \"god\", \"debt\", \"spending\", \"success\"]\n",
    "    democrat_dict = {}\n",
    "    republican_dict = {}\n",
    "    democrat_freq = 0\n",
    "    republican_freq = 0\n",
    "\n",
    "    for word in democrats_words:\n",
    "        democrat_dict[word]=0\n",
    "    for word in republicans_words:\n",
    "        republican_dict[word]=0\n",
    "    for text in texts:\n",
    "        democrat_dict = countFrequency(text.split(\" \"), democrat_dict)\n",
    "        republican_dict = countFrequency(text.split(\" \"), republican_dict)\n",
    "    for word in democrat_dict:\n",
    "        democrat_freq+=democrat_dict[word]\n",
    "    for word in republican_dict:\n",
    "        republican_freq+=republican_dict[word]\n",
    "    \n",
    "    if(democrat_freq>republican_freq):\n",
    "        return \"democrat\"\n",
    "    else:\n",
    "        if(democrat_freq<republican_freq):\n",
    "            return \"republican\"\n",
    "   \n",
    "        else:\n",
    "            return \"neutral\""
   ]
  },
  {
   "cell_type": "code",
   "execution_count": 11,
   "id": "18b406e9",
   "metadata": {},
   "outputs": [
    {
     "name": "stdout",
     "output_type": "stream",
     "text": [
      "neutral\n"
     ]
    }
   ],
   "source": [
    "print(political_analysis(dades))"
   ]
  },
  {
   "cell_type": "code",
   "execution_count": 12,
   "id": "3e7a251c",
   "metadata": {
    "tags": []
   },
   "outputs": [],
   "source": [
    "def religion_analysis(texts):\n",
    "    islam_words = [\"allah\", \"fatwa\", \"hadj\", \"hajj\",\"hijjah\", \"islam\", \"mecca\", \"muhammad\", \"mosque\", \"muslim\", \n",
    "        \"prophet\", \"ramadan\", \"salam\", \"salaam\", \"sharia\", \"suhoor\", \"sunna\", \"sunnah\", \"sunni\", \"koran\", \"coran\", \n",
    "        \"qur'an\", \"hijab\", \"halal\", \"hadith\", \"imam\", \"madrassah\", \"salat\", \"sawm\", \"shahada\", \"sura\", \"tafsir\",\n",
    "        \"zakat\", \"kaaba\", \"eid al fitr\",\"khutbah\", \"eid al adha\", \"p.b.u.h\"]\n",
    "    catholic_words = [\"apostle\", \"assembly\", \"bible\", \"blessed sacrament\", \"celebrant\", \"discernment\", \"disciple\", \n",
    "        \"easter\", \"gospel\", \"eucharist\", \"grace\", \"communion\", \"holy water\", \"jesus\", \"christ\", \"new testament\", \"old testament\",\n",
    "        \"sacrament\", \"catholic\", \"christmas\", \"christian\", \"confession\", \"convent\", \"godparent\", \"immaculate\", \"pentateuch\", \"saint\",\n",
    "        \"protestant\", \"church\", \"ecclesiastic\", \"episcopal\"]\n",
    "    jewish_words = [\"torah\", \"shalom\", \"kosher\", \"chutzpah\", \"kippah\", \"mazel tov\", \"adar\", \"achashverosh\", \"bimah\",\n",
    "        \"daven\", \"gelilah\", \"hakafot\", \"halachah\", \"iyar\", \"kiddish\", \"nisan\", \"nine day\", \"shmot\", \"shul\", \"simchat\",\n",
    "        \"vayikra\", \"yizkor\", \"zichrono livracha\", \"yerushalayim\", \"yisrael\"]\n",
    "    budism_words = [\"ajahn chah\", \"advaita vedanta\", \"ayya khema\", \"bhikkhu payutto\", \"buddha\", \"buddhism\", \"buddhist\",\n",
    "        \"chan\", \"chi kung\", \"dana\", \"dharma\", \"dhamma\", \"gelugpa\", \"jhana\", \"koan\", \"mahasi\", \"mahayana\", \"nibbana\", \n",
    "        \"nirvana\", \"pali\", \"sanskrit\", \"zen\"]\n",
    "\n",
    "    islam_dict = {}\n",
    "    catholic_dict = {}\n",
    "    jewish_dict = {}\n",
    "    budism_dict = {}\n",
    "\n",
    "    results={}\n",
    "    results[\"catholic\"]=0\n",
    "    results[\"islam\"]=0\n",
    "    results[\"jewish\"]=0\n",
    "    results[\"budism\"]=0\n",
    "\n",
    "    for word in islam_words:\n",
    "        islam_dict[word]=0\n",
    "    for word in catholic_words:\n",
    "        catholic_dict[word]=0\n",
    "    for word in jewish_words:\n",
    "        jewish_dict[word]=0\n",
    "    for word in budism_words:\n",
    "        budism_dict[word]=0\n",
    "    \n",
    "        \n",
    "    for text in texts:\n",
    "        islam_dict = countFrequency(text.split(' '), islam_dict)\n",
    "        catholic_dict = countFrequency(text.split(' '), catholic_dict)\n",
    "        jewish_dict = countFrequency(text.split(' '), jewish_dict)\n",
    "        budism_dict = countFrequency(text.split(' '), budism_dict)\n",
    "    for word in islam_dict:\n",
    "        results[\"islam\"]+=islam_dict[word]\n",
    "    for word in catholic_dict:\n",
    "        results[\"catholic\"]+=catholic_dict[word]\n",
    "    for word in jewish_dict:\n",
    "        results[\"jewish\"]+=jewish_dict[word]\n",
    "    for word in budism_dict:\n",
    "        results[\"budism\"]+=budism_dict[word]\n",
    "    print(results)\n",
    "\n",
    "    max_value=max(results.items(), key=operator.itemgetter(1))[0]\n",
    "    if (results.get(max_value) > 0):\n",
    "        return max_value\n",
    "    else:\n",
    "        return \"neutral\""
   ]
  },
  {
   "cell_type": "code",
   "execution_count": 13,
   "id": "1c36b372",
   "metadata": {},
   "outputs": [
    {
     "name": "stdout",
     "output_type": "stream",
     "text": [
      "{'catholic': 0, 'islam': 0, 'jewish': 0, 'budism': 0}\n",
      "neutral\n"
     ]
    }
   ],
   "source": [
    "print(religion_analysis(dades))"
   ]
  },
  {
   "cell_type": "code",
   "execution_count": 24,
   "id": "301eb461",
   "metadata": {},
   "outputs": [],
   "source": [
    "def facebook_posts_crawler(facebook_token):\n",
    "    graph = facebook.GraphAPI(facebook_token)\n",
    "    field = ['posts']\n",
    "    profile = graph.get_object(id=\"me\",fields=field)\n",
    "    posts = []\n",
    "    for post in profile['posts']['data']:\n",
    "        if post.get('message'):\n",
    "            row = [\" \", \" \", str(post.get('id')), str(profile.get('created_time')), \"null\", \"null\", str(post.get('message').replace(',', \" \"))]\n",
    "            posts.append(row)\n",
    "    return posts"
   ]
  },
  {
   "cell_type": "code",
   "execution_count": null,
   "id": "37e5cd40",
   "metadata": {},
   "outputs": [],
   "source": []
  },
  {
   "cell_type": "code",
   "execution_count": 50,
   "id": "43f9f824-fe2d-44d9-a2d9-69029cf91791",
   "metadata": {},
   "outputs": [
    {
     "name": "stdout",
     "output_type": "stream",
     "text": [
      "['\\r\\nneutral', 'islam', '\"[\\'null\\'', \" 'null'\", \" '1287098631120715776'\", \" '2020-07-25 18:53:21'\", \" 'none'\", \" 'none'\", \" 'rd dhul hijjah  h jummah khutbah  sheikh drmaher al muaiqlyvideo hd  mp\"]\n"
     ]
    }
   ],
   "source": [
    "def write_csv_posts(posts):\n",
    "    list_p = []\n",
    "    i = 2\n",
    "    for i in range(len(posts)):\n",
    "        list_p.append(posts[i][6])\n",
    "        i+=1\n",
    "    output = io.StringIO()\n",
    "    w = csv.writer(output, delimiter='\\n')\n",
    "    w.writerow(list_p)\n",
    "    return output.getvalue().encode('utf8')\n",
    "\n",
    "def split_posts_text(posts):\n",
    "    posts_split = []\n",
    "    for post in posts:\n",
    "        post_split = post.split(',')\n",
    "        if len(post_split)>4 and post_split[6] !='': \n",
    "            posts_split.append(post_split)\n",
    "    return posts_split\n",
    "\n",
    "posts = storage.get_object(\"sd-task2\", \"sd.csv\").decode('utf8')\n",
    "posts_split = split_posts_text(posts.split('%'))\n",
    "print(posts_split[2])\n",
    "#print(write_csv_posts(split_posts_text(posts.split('%'))).decode('utf8'))\n",
    "#storage.put_cloudobject(output,'sd-task2', 'dades.csv')"
   ]
  },
  {
   "cell_type": "code",
   "execution_count": null,
   "id": "dc97c027-467e-42d7-a720-5a6ee6cfc2aa",
   "metadata": {},
   "outputs": [],
   "source": []
  },
  {
   "cell_type": "code",
   "execution_count": null,
   "id": "af03b6a7-43a2-4125-956a-b91f7cc59669",
   "metadata": {},
   "outputs": [],
   "source": []
  },
  {
   "cell_type": "code",
   "execution_count": null,
   "id": "01cc8c28-0ca6-46f6-866d-dbb30bb5d8ba",
   "metadata": {},
   "outputs": [],
   "source": []
  },
  {
   "cell_type": "code",
   "execution_count": null,
   "id": "6a3e3912-0427-4fe3-af93-a6f7fafe88aa",
   "metadata": {},
   "outputs": [],
   "source": []
  }
 ],
 "metadata": {
  "interpreter": {
   "hash": "e9a30a128f8404108a6d4afc9deb930e4e0038c0f27c9ff0cba4deb8e9e47a99"
  },
  "kernelspec": {
   "display_name": "Python 3",
   "language": "python",
   "name": "python3"
  },
  "language_info": {
   "codemirror_mode": {
    "name": "ipython",
    "version": 3
   },
   "file_extension": ".py",
   "mimetype": "text/x-python",
   "name": "python",
   "nbconvert_exporter": "python",
   "pygments_lexer": "ipython3",
   "version": "3.9.2"
  }
 },
 "nbformat": 4,
 "nbformat_minor": 5
}
