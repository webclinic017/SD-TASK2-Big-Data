{
 "cells": [
  {
   "cell_type": "code",
   "execution_count": 376,
   "id": "005657c5",
   "metadata": {
    "scrolled": true
   },
   "outputs": [],
   "source": [
    "import emoji\n",
    "import numpy as np\n",
    "import os\n",
    "import lithops\n",
    "from lithops.storage import Storage\n",
    "import numpy as np\n",
    "import pandas as pd\n",
    "import io\n",
    "import csv\n",
    "import re\n",
    "import nltk\n",
    "import operator\n"
   ]
  },
  {
   "cell_type": "code",
   "execution_count": 377,
   "id": "0a861033",
   "metadata": {},
   "outputs": [],
   "source": [
    "\n",
    "import sys\n",
    "try:\n",
    "    import lithops\n",
    "except:\n",
    "    !{sys.executable} -m pip install lithops\n",
    "    import lithops"
   ]
  },
  {
   "cell_type": "code",
   "execution_count": 378,
   "id": "a70c0bcc",
   "metadata": {
    "scrolled": true
   },
   "outputs": [],
   "source": [
    "config = {'ibm_cf':  {'endpoint' : 'https://eu-gb.functions.cloud.ibm.com',\n",
    "                      'namespace'   : 'ubenabdelkrim2@gmail.com_dev',\n",
    "                      'api_key'     : '7c45d3db-a61f-4ca6-afdd-45d749ebbda3:9Z1CfSBEeif85med0hgE9pefPC8KI6vrrCanErdmMKiajaMKKzfOd57TBQKF4E9I'}, \n",
    "          'ibm_cos': {'region'   : 'eu-de',\n",
    "                    'access_key' : '5286a241e5de460a96de29466c635424',\n",
    "                    'secret_key' : '1e4c0eaec93783aab1243240ffe8f0d90dbae5def4c9aeae'},\n",
    "          'lithops' : {'storage_bucket' : 'sd-task2'}}"
   ]
  },
  {
   "cell_type": "code",
   "execution_count": 379,
   "id": "6b4a9795",
   "metadata": {},
   "outputs": [
    {
     "name": "stderr",
     "output_type": "stream",
     "text": [
      "2021-06-18 07:09:03,449 [INFO] lithops.config -- Lithops v2.3.4\n",
      "2021-06-18 07:09:03,454 [INFO] lithops.storage.backends.ibm_cos.ibm_cos -- IBM COS Storage client created - Region: eu-de\n",
      "2021-06-18 07:09:03,455 [INFO] lithops.serverless.backends.ibm_cf.ibm_cf -- IBM CF client created - Region: eu-gb - Namespace: ubenabdelkrim2@gmail.com_dev\n",
      "2021-06-18 07:09:03,456 [INFO] lithops.executors -- Serverless Executor created with ID: cdce9b-2\n"
     ]
    }
   ],
   "source": [
    "fexec = lithops.FunctionExecutor(config=config)\n"
   ]
  },
  {
   "cell_type": "code",
   "execution_count": 380,
   "id": "30134bf5",
   "metadata": {},
   "outputs": [
    {
     "name": "stderr",
     "output_type": "stream",
     "text": [
      "2021-06-18 07:09:04,783 [INFO] lithops.storage.backends.ibm_cos.ibm_cos -- IBM COS Storage client created - Region: eu-de\n"
     ]
    }
   ],
   "source": [
    "storage=Storage()\n"
   ]
  },
  {
   "cell_type": "code",
   "execution_count": 381,
   "id": "6378ed82",
   "metadata": {
    "scrolled": false
   },
   "outputs": [
    {
     "name": "stdout",
     "output_type": "stream",
     "text": [
      "['False\\r', '\" \"\"\"\"Surah Taha 56 - 76 | sheikh Dr. Maher al_muaiqly | 23th Zul-Qa’dah 1441H \\'Isha\\\\n\\\\nVideo HD :\\\\nhttps://t.co/3LznJ7kfVm\\\\n\\\\nMP3 :\\\\nhttps://t.co/6XhAygp36o https://t.co/fmqSNCX9qM\"\"\"\"\"\\r', \" 'Surah Taha 99 - 114 | sheikh Dr. Maher al_muaiqly | 23th Zul-Qa’dah 1441H Maghrib\\\\n\\\\nVideo HD :\\\\nhttps://t.co/eY65AWYCiL\\\\n\\\\nMP3 :\\\\nhttps://t.co/Fbkut2qX7T https://t.co/82jcFYO9Ts'\\r\", \" 'Surah Taha 1 - 44 | sheikh Dr. Maher al_muaiqly | 23th Zul-Qa’dah 1441H Fajr\\\\n\\\\nVideo HD :\\\\nhttps://t.co/zOb39jzo6y\\\\n\\\\nMP3 :\\\\nhttps://t.co/AA3ucnIobq https://t.co/8k9NTxAHh9'\\r\", '\" \"\"\"\"Surah Al-Isra 23 - 39 | sheikh Dr. Maher al_muaiqly | 19th Zul-Qa’dah 1441H \\'Isha\\\\n\\\\nVideo HD :\\\\nhttps://t.co/9qm1kC5v5i\\\\n\\\\nMP3 :\\\\nhttps://t.co/Fan26sAxuT https://t.co/zWQJEUTkcX\"\"\"\"\"\\r', \" 'Surah Al-Isra 9 - 17 | sheikh Dr. Maher al_muaiqly | 19th Zul-Qa’dah 1441H Maghrib\\\\n\\\\nVideo HD :\\\\nhttps://t.co/DlMqQipELv\\\\n\\\\nMP3 :\\\\nhttps://t.co/JqrhozvCD1 https://t.co/h5OQZyTpmI'\\r\", \" 'Surah Al-Ahqaf 13 - 19 | sheikh Dr. Maher al_muaiqly | 17th Zul-Qa’dah 1441H Maghrib\\\\n\\\\nVideo HD :\\\\nhttps://t.co/I5qBzETa3B\\\\n\\\\nMP3 :\\\\nhttps://t.co/vBuVgDBmWf https://t.co/SbrIRVh0qR'\\r\", \" 'Surah Al-Tawbah 119 - 129 | sheikh Dr. Maher al_muaiqly | 17th Zul-Qa’dah 1441H Fajr\\\\n\\\\nVideo HD :\\\\nhttps://t.co/jK2qfOwBCk\\\\n\\\\nMP3 : \\\\nhttps://t.co/hfPZiB7FrN https://t.co/jUv7ODhvek'\\r\", '\" \"\"\"\"Surah Al-Ahzab {41 - 48} {56 - 59 } | sheikh Dr. Maher al_muaiqly | 11th Zul-Qa’dah 1441H \\'Isha\\\\n\\\\nVideo HD :\\\\nhttps://t.co/guTz5Ih40b\\\\n\\\\nMP3 :\\\\nhttps://t.co/4XJhgQxXRJ https://t.co/SCz3xND5gD\"\"\"\"\"\\r', \" 'Surah Ash-shams - Al-lail | sheikh Dr. Maher al_muaiqly | 11th Zul-Qa’dah 1441H Maghrib\\\\n\\\\nVideo HD :\\\\nhttps://t.co/JSCRj5mquo\\\\n\\\\nMP3 :\\\\nhttps://t.co/IitkIFUtVx https://t.co/NDQMdmjyhi'\\r\", \" 'Surah Nuh | sheikh Dr. Maher al_muaiqly | 11th Zul-Qa’dah 1441H Fajr\\\\n\\\\nVideo HD :\\\\nhttps://t.co/OY5jo9UZaK\\\\n\\\\nMP3 : \\\\nhttps://t.co/OJk47O7fFN https://t.co/KpSSKJnPxK'\\r\", '\" \"\"\"\"Surah An-Naba 17 - 40 &amp; An-Nazi\\'at 27 - 46 | sheikh Dr. Maher al_muaiqly | 5th Zul-Qa’dah 1441H \\'Isha\\\\n\\\\nVideo HD :\\\\nhttps://t.co/DgtPVOUy4F\\\\n\\\\nMP3 :\\\\nhttps://t.co/gAb7sKsxgf https://t.co/SQ1ZQQ8XSY\"\"\"\"\"\\r', '\" \"\"\"\"Surah At-Tin - Al-Ma\\'un | sheikh Dr. Maher al_muaiqly | 5th Zul-Qa’dah 1441H Maghrib\\\\n\\\\nVideo HD :\\\\nhttps://t.co/sxVBfbowrL\\\\n\\\\nMP3 :\\\\nhttps://t.co/fZWSs7eIc4 https://t.co/YsBH7ICwAw\"\"\"\"\"\\r', '\" \"\"\"\"Surah Al-Qiyaama - Al-Balad | sheikh Dr. Maher al_muaiqly | 24th Shawaal 1441H \\'Isha\\\\n\\\\nVideo HD :\\\\nhttps://t.co/dEvwxm03xr\\\\n\\\\nMP3 :\\\\nhttps://t.co/rRMqX1Xb1y https://t.co/aup4CeeU59\"\"\"\"\"\\r', \" 'Surah Al-Fajr | sheikh Dr. Maher al_muaiqly | 24th Shawaal 1441H Maghrib\\\\n\\\\nVideo HD :\\\\nhttps://t.co/2nxy5VPA8A\\\\n\\\\nMP3 :\\\\nhttps://t.co/FhOKSMUxzh https://t.co/myGfci5RsA'\\r\", \" 'Surah Aal-i-Imraan 121 - 136 | sheikh Dr. Maher al_muaiqly | 24th Shawaal 1441H Fajr\\\\n\\\\nVideo HD :\\\\nhttps://t.co/ZcayEOfi1k\\\\n\\\\nMP3 :\\\\nhttps://t.co/MOVw6YebQT https://t.co/K8G7EFn8b1'\\r\", '\" \"\"\"\"Surah Ash-Shu\\'ara 69 - 104 | sheikh Dr. Maher al_muaiqly | 19th Shawaal 1441H \\'lsha\\\\n\\\\nFull Video HD :\\\\nhttps://t.co/AMdOMqlmnk https://t.co/QSWdNreBdG\"\"\"\"\"\\r', \" 'Surah Al-Hashr 18 - 24 | sheikh Dr. Maher al_muaiqly | 19th Shawaal 1441H Maghrib\\\\n\\\\nFull Video HD : \\\\nhttps://t.co/tBh8TVGOi6\\\\n\\\\nMp3: \\\\nhttps://t.co/unGyiMNteX https://t.co/KrmuFiKGMe'\\r\", \" 'Surah Az-Zumar 53 - 75 | sheikh Dr. Maher al_muaiqly | 19th Shawaal 1441H fajr\\\\n\\\\nVideo HD :\\\\nhttps://t.co/h4L8k74VDk https://t.co/2G22y3yHJH'\\r\", '\" \"\"\"\"Surah Qaf 16 - 45 | sheikh Dr. Maher al_muaiqly | 13th Shawaal 1441H \\'Isha\\\\n\\\\nVideo HD : \\\\nhttps://t.co/pkGV1L4X0G https://t.co/ee3ozbXyFC\"\"\"\"\"\\r', \" 'Surah Al-Fath 27 - 29 | sheikh Dr. Maher al_muaiqly | 13th Shawaal 1441H Maghrib\\\\n\\\\nVideo HD : \\\\n\\\\nhttps://t.co/AWqXdeJYaV\\\\n\\\\nAudio :\\\\n\\\\nhttps://t.co/4j6Ox4lPtl'\\r\", \" 'Surah Al-Ahzab  56 - 73 | sheikh Dr. Maher al_muaiqly | 13th Shawaal 1441H Fajr\\\\n\\\\nVideo HD:\\\\nhttps://t.co/WUWMLdQhOM\\\\n\\\\nAudio :\\\\nhttps://t.co/ZC6prwKQ0K https://t.co/9lFIRyNAxk'\\r\", \" '﴿ إنَّ اللَّهَ وَمَلَائِكَتَهُ يُصَلُّونَ عَلى النَّبِيِّ يَا أَيُّهَاالَّذِينَ آَمَنُوا صَلُّوا عَلَيْهِ وسَلِّمُوا تَسْليمًا ﴾\\\\n#Maher_almuaiqly https://t.co/6JRZ34V8Jg'\\r\", '\" \"\"\"\"Surah Al-Furqan 61 - 77 | sheikh Dr. Maher al_muaiqly | 9th Shawaal 1441H \\'Isha\\\\n\\\\nFull Video HD : \\\\nhttps://t.co/KClkE1wSba\\\\n\\\\nAudio : \\\\nhttps://t.co/MynnJkUItf https://t.co/xklxkOFACx\"\"\"\"\"\\r', \" 'Surah Al-Baqarah 284 - 286  | sheikh Dr. Maher al_muaiqly | 9th Shawaal 1441H Maghrib\\\\n\\\\nFull video HD : \\\\n\\\\nhttps://t.co/f4xeYgq18A\\\\n\\\\nAudio: \\\\nhttps://t.co/GUtoeUVSGf https://t.co/RneXzKOTdV'\\r\", '\" \"\"\"\"Surah Al-Ma\\'arij | sheikh Dr. Maher al-muaiqly | 9th Shawaal 1441H Fajr\\\\n\\\\nFull video HD : \\\\nhttps://t.co/C7u6xfG5mw\\\\n\\\\nAudio : \\\\nhttps://t.co/TRqlR9AcWY https://t.co/QSldU4YscT\"\"\"\"\"\\r', '\" \"\"\"\"6th Shawaal 1441 H Jummah salaah | Surah Al-A\\'la and Al-Ghashiyah | Sheikh Dr.Maher al-muaiqly\\\\n\\\\nVideo HD :\\\\nhttps://t.co/TMLn7cseJi\\\\n\\\\nAudio :\\\\nhttps://t.co/Gyp6RRMIBB https://t.co/7bFvVrpEcy\"\"\"\"\"\\r', \" '6th shawaal 1441 H Jummah khutbah | Sheikh Dr.Maher al_muaiqly\\\\n\\\\nVideo HD : https://t.co/HkdKCXuF6q\\\\n\\\\nMp3 : https://t.co/qJL488eFPT https://t.co/NZThVjmxRM'\\r\", \" 'Surah All Emran  63-148  HD : https://t.co/MRtZjqvCsB\\\\nDuaa of 3rd Night HD : https://t.co/L9pfsj5a8k\\\\n\\\\nby : Sheikh Dr. Maher al-muaiqly'\\r\", \" 'Al-Maghrib Prayer - Friday 30-8-1438H by : Sheikh Dr. Maher al-muaiqly - Surat Al-Baqarah 284-286 .\\\\n\\\\nMP3 : https://t.co/12mvYGafnK'\\r\", \" 'Al-Maghrib Prayer - Friday 30-8-1438H by : Sheikh Dr. Maher al-muaiqly - Surat Al-Baqarah 284-286 .\\\\n\\\\nVideo HD : https://t.co/SWX79ZqCVK'\\r\", \" 'Al-Maghrib Prayer - Thursday 29-8-1438H by : Sheikh Dr. Maher al-muaiqly - Surat Al-Nur 34-40 .\\\\n\\\\nMP3 : https://t.co/ZM36iVrBmP'\\r\", \" 'Al-Maghrib Prayer - Thursday 29-8-1438H by : Sheikh Dr. Maher al-muaiqly - Surat Al-Nur 34-40 .\\\\n\\\\nVideo HD : https://t.co/NJBNNEeMg4'\\r\", \" 'Al-Maghrib Prayer - Wednesday 28-8-1438H by : Sheikh Dr. Maher al-muaiqly - Surat alqiama .\\\\n\\\\nAudio : https://t.co/xAmcjJARFN'\\r\", \" 'Al-Maghrib Prayer - Wednesday 28-8-1438H by : Sheikh Dr. Maher al-muaiqly - Surat alqiama .\\\\n\\\\nVideo HD : https://t.co/HLURpRJT3M'\\r\", \" 'Al-Maghrib Prayer - Tuesday 27-8-1438H by : Sheikh Dr. Maher al-muaiqly - Surat Maryam77-98 .\\\\n\\\\nVideo HD : https://t.co/crycArHfMa'\\r\", \" 'Al-Maghrib Prayer - Tuesday 27-8-1438H by : Sheikh Dr. Maher al-muaiqly - Surat Maryam77-98 .\\\\n\\\\nVideo HD : https://t.co/jtkApfRdjb'\\r\", \" 'Al-Maghrib Prayer ، Monday 26-8-1438H by : Sheikh Dr. Maher al-muaiqly ، Surat Al-Haqqa 13-37 .\\\\n\\\\nAudio : https://t.co/upeXfKkTlb'\\r\", \" 'Al-Maghrib Prayer ، Monday 26-8-1438H by : Sheikh Dr. Maher al-muaiqly ، Surat Al-Haqqa 13-37 .\\\\n\\\\nVideo HD : https://t.co/ziOPjPmp9S'\\r\", \" 'Al-Maghrib Prayer ، Sunday 25-8-1438H by : Sheikh Dr. Maher al-muaiqly ، Surat Al-Hashr 18-24 .\\\\n\\\\nAudio : https://t.co/oozGY2GIeU'\\r\", \" 'Al-Maghrib Prayer ، Sunday 25-8-1438H by : Sheikh Dr. Maher al-muaiqly ، Surat Al-Hashr 18-24 .\\\\n\\\\nVideo HD : https://t.co/HMXRvC6EuR'\\r\", \" 'Al-Maghrib Prayer ، Saturday 24-8-1438H by : Sheikh Dr. Maher al-muaiqly ، Surat Al-Imran 190-200 .\\\\n\\\\nAudio : https://t.co/9M2ub2jkMk'\\r\", \" 'Al-Maghrib Prayer ، Saturday 24-8-1438H by : Sheikh Dr. Maher al-muaiqly ، Surat Al-Imran 190-200 .\\\\n\\\\nVideo HD : https://t.co/xtQbmxmwug'\\r\", \" 'Al-Maghrib Prayer ، Friday 23-8-1438H by : Sheikh Dr. Maher al-muaiqly ، Surat Al-Tawbaa 123-129 .\\\\n\\\\nAudio : https://t.co/M4PnEZjBX5'\\r\", \" 'Al-Maghrib Prayer ، Friday 23-8-1438H by : Sheikh Dr. Maher al-muaiqly ، Surat Al-Tawbaa 123-129 .\\\\n\\\\nVideo HD : https://t.co/Ns4wuEjJgy'\\r\", \" 'Al-Maghrib Prayer، Thursday 22-8-1438H by : Sheikh Dr. Maher al-muaiqly، Surat Ad-Dhariyat And Al-Munafiqun\\\\n\\\\nAudio : https://t.co/gFiO6x8mUr'\\r\", \" 'Al-Maghrib Prayer، Thursday 22-8-1438H by: Sheikh Dr. Maher al-muaiqly، Surat Ad-Dhariyat And Al-Munafiqun\\\\n\\\\nVideo HD\\\\nhttps://t.co/bQhZX07QNA'\\r\", \" 'Al-Maghrib Prayer ، Wednesday 21-8-1438H by : Sheikh Dr. Maher al-muaiqly ، Surat TaHa  99-114 \\\\n\\\\nAudio : https://t.co/JOmGW2qwy4'\\r\", \" 'Al-Maghrib Prayer ، Wednesday 21-8-1438H by : Sheikh Dr. Maher al-muaiqly ، Surat TaHa  99-114 \\\\n\\\\nVideo HD : https://t.co/wvZTsGgDqn'\\r\", \" 'Al-Maghrib Prayer _ Tuesday 20-8-1438H by : Sheikh Dr. Maher al-muaiqly _ Surat Al-Infitar and Ash-Shams.\\\\n\\\\nAudio : https://t.co/dFXC3iidQ3'\\r\", \" 'Al-Maghrib Prayer _ Tuesday 20-8-1438H by : Sheikh Dr. Maher al-muaiqly _ Surat Al-Infitar and Ash-Shams.\\\\n\\\\nVideo HD :https://t.co/6Wym6A9YOE'\\r\", '\" \"\"\"\"Al-Maghrib Prayer _ Monday 19-8-1438H by : Sheikh Dr. Maher al-muaiqly _ Surat An-Nazi\\'at And Abasa .\\\\n\\\\nAudio : https://t.co/FNm51NyP9h\"\"\"\"\"\\r', '\" \"\"\"\"Al-Maghrib Prayer _ Monday 19-8-1438H by : Sheikh Dr. Maher al-muaiqly _ Surat An-Nazi\\'at And Abasa .\\\\n\\\\nVideo HD : https://t.co/yBRnctvPWz\"\"\"\"\"\\r', \" 'Al-Maghrib Prayer Sunday 18-8-1438H by : Sheikh Dr. Maher al_muaiqly Surat Al-Duha and Al-Sharh\\\\n\\\\nAudio: https://t.co/0JeknyHAK0'\\r\", \" 'Al-Maghrib Prayer Sunday 18-8-1438H by : Sheikh Dr. Maher al_muaiqly Surat Al-Duha and Al-Sharh\\\\n\\\\nVideo HD : https://t.co/DGb2PvMnB7'\\r\", '\" \\'InshaaAllah sheikh Dr : maher al_muaiqly beings his period tomorrow 18-8-1438H for Alasr and Almaghrib salat and it lasts a week .. https://t.co/6HhplA4Bps\\'\"\"\\r', 'neutral\"\\r', '']\n"
     ]
    }
   ],
   "source": [
    "dades = storage.get_object('sd-task2','dades.csv')\n",
    "x=dades.decode(\"utf-8\")\n",
    "\n",
    "\n",
    "missatges = []\n",
    "dades=x.split('\\n')\n",
    "for dada in dades:\n",
    "    missatges.append(dada.split(' '))\n",
    "    \n",
    "print(dades)"
   ]
  },
  {
   "cell_type": "code",
   "execution_count": 382,
   "id": "759178f5",
   "metadata": {},
   "outputs": [
    {
     "name": "stdout",
     "output_type": "stream",
     "text": [
      "False       Surah Taha 56 - 76 | sheikh Dr. Maher al muaiqly | 23th Zul-Qa’dah 1441H  Isha\\n\\nVideo HD :\\n :\\n  Surah Taha 99 - 114 | sheikh Dr. Maher al muaiqly | 23th Zul-Qa’dah 1441H Maghrib\\n\\nVideo HD :\\n :\\n  Surah Taha 1 - 44 | sheikh Dr. Maher al muaiqly | 23th Zul-Qa’dah 1441H Fajr\\n\\nVideo HD :\\n :\\n       Surah Al-Isra 23 - 39 | sheikh Dr. Maher al muaiqly | 19th Zul-Qa’dah 1441H  Isha\\n\\nVideo HD :\\n :\\n  Surah Al-Isra 9 - 17 | sheikh Dr. Maher al muaiqly | 19th Zul-Qa’dah 1441H Maghrib\\n\\nVideo HD :\\n :\\n  Surah Al-Ahqaf 13 - 19 | sheikh Dr. Maher al muaiqly | 17th Zul-Qa’dah 1441H Maghrib\\n\\nVideo HD :\\n :\\n  Surah Al-Tawbah 119 - 129 | sheikh Dr. Maher al muaiqly | 17th Zul-Qa’dah 1441H Fajr\\n\\nVideo HD :\\n : \\n       Surah Al-Ahzab {41 - 48} {56 - 59 } | sheikh Dr. Maher al muaiqly | 11th Zul-Qa’dah 1441H  Isha\\n\\nVideo HD :\\n :\\n  Surah Ash-shams - Al-lail | sheikh Dr. Maher al muaiqly | 11th Zul-Qa’dah 1441H Maghrib\\n\\nVideo HD :\\n :\\n  Surah Nuh | sheikh Dr. Maher al muaiqly | 11th Zul-Qa’dah 1441H Fajr\\n\\nVideo HD :\\n : \\n       Surah An-Naba 17 - 40 &amp; An-Nazi at 27 - 46 | sheikh Dr. Maher al muaiqly | 5th Zul-Qa’dah 1441H  Isha\\n\\nVideo HD :\\n :\\n       Surah At-Tin - Al-Ma un | sheikh Dr. Maher al muaiqly | 5th Zul-Qa’dah 1441H Maghrib\\n\\nVideo HD :\\n :\\n       Surah Al-Qiyaama - Al-Balad | sheikh Dr. Maher al muaiqly | 24th Shawaal 1441H  Isha\\n\\nVideo HD :\\n :\\n  Surah Al-Fajr | sheikh Dr. Maher al muaiqly | 24th Shawaal 1441H Maghrib\\n\\nVideo HD :\\n :\\n  Surah Aal-i-Imraan 121 - 136 | sheikh Dr. Maher al muaiqly | 24th Shawaal 1441H Fajr\\n\\nVideo HD :\\n :\\n       Surah Ash-Shu ara 69 - 104 | sheikh Dr. Maher al muaiqly | 19th Shawaal 1441H  lsha\\n\\nFull Video HD :\\n  Surah Al-Hashr 18 - 24 | sheikh Dr. Maher al muaiqly | 19th Shawaal 1441H Maghrib\\n\\nFull Video HD : \\n \\n  Surah Az-Zumar 53 - 75 | sheikh Dr. Maher al muaiqly | 19th Shawaal 1441H fajr\\n\\nVideo HD :\\n       Surah Qaf 16 - 45 | sheikh Dr. Maher al muaiqly | 13th Shawaal 1441H  Isha\\n\\nVideo HD : \\n  Surah Al-Fath 27 - 29 | sheikh Dr. Maher al muaiqly | 13th Shawaal 1441H Maghrib\\n\\nVideo HD : \\n\\n :\\n\\n  Surah Al-Ahzab 56 - 73 | sheikh Dr. Maher al muaiqly | 13th Shawaal 1441H Fajr\\n\\nVideo HD:\\n :\\n  ﴿ إنَّ اللَّهَ وَمَلَائِكَتَهُ يُصَلُّونَ عَلى النَّبِيِّ يَا أَيُّهَاالَّذِينَ آَمَنُوا صَلُّوا عَلَيْهِ وسَلِّمُوا تَسْليمًا ﴾\\nMaher almuaiqly       Surah Al-Furqan 61 - 77 | sheikh Dr. Maher al muaiqly | 9th Shawaal 1441H  Isha\\n\\nFull Video HD : \\n : \\n  Surah Al-Baqarah 284 - 286 | sheikh Dr. Maher al muaiqly | 9th Shawaal 1441H Maghrib\\n\\nFull video HD : \\n\\n \\n       Surah Al-Ma arij | sheikh Dr. Maher al-muaiqly | 9th Shawaal 1441H Fajr\\n\\nFull video HD : \\n : \\n       6th Shawaal 1441 H Jummah salaah | Surah Al-A la and Al-Ghashiyah | Sheikh Dr.Maher al-muaiqly\\n\\nVideo HD :\\n :\\n  6th shawaal 1441 H Jummah khutbah | Sheikh Dr.Maher al muaiqly\\n\\nVideo HD : :  Surah All Emran 63-148 HD : of 3rd Night HD : : Sheikh Dr. Maher al-muaiqly   Al-Maghrib Prayer - Friday 30-8-1438H by : Sheikh Dr. Maher al-muaiqly - Surat Al-Baqarah 284-286 .\\n\\nMP3 :  Al-Maghrib Prayer - Friday 30-8-1438H by : Sheikh Dr. Maher al-muaiqly - Surat Al-Baqarah 284-286 .\\n\\nVideo HD :  Al-Maghrib Prayer - Thursday 29-8-1438H by : Sheikh Dr. Maher al-muaiqly - Surat Al-Nur 34-40 .\\n\\nMP3 :  Al-Maghrib Prayer - Thursday 29-8-1438H by : Sheikh Dr. Maher al-muaiqly - Surat Al-Nur 34-40 .\\n\\nVideo HD :  Al-Maghrib Prayer - Wednesday 28-8-1438H by : Sheikh Dr. Maher al-muaiqly - Surat alqiama .\\n\\nAudio :  Al-Maghrib Prayer - Wednesday 28-8-1438H by : Sheikh Dr. Maher al-muaiqly - Surat alqiama .\\n\\nVideo HD :  Al-Maghrib Prayer - Tuesday 27-8-1438H by : Sheikh Dr. Maher al-muaiqly - Surat Maryam77-98 .\\n\\nVideo HD :  Al-Maghrib Prayer - Tuesday 27-8-1438H by : Sheikh Dr. Maher al-muaiqly - Surat Maryam77-98 .\\n\\nVideo HD :  Al-Maghrib Prayer ، Monday 26-8-1438H by : Sheikh Dr. Maher al-muaiqly ، Surat Al-Haqqa 13-37 .\\n\\nAudio :  Al-Maghrib Prayer ، Monday 26-8-1438H by : Sheikh Dr. Maher al-muaiqly ، Surat Al-Haqqa 13-37 .\\n\\nVideo HD :  Al-Maghrib Prayer ، Sunday 25-8-1438H by : Sheikh Dr. Maher al-muaiqly ، Surat Al-Hashr 18-24 .\\n\\nAudio :  Al-Maghrib Prayer ، Sunday 25-8-1438H by : Sheikh Dr. Maher al-muaiqly ، Surat Al-Hashr 18-24 .\\n\\nVideo HD :  Al-Maghrib Prayer ، Saturday 24-8-1438H by : Sheikh Dr. Maher al-muaiqly ، Surat Al-Imran 190-200 .\\n\\nAudio :  Al-Maghrib Prayer ، Saturday 24-8-1438H by : Sheikh Dr. Maher al-muaiqly ، Surat Al-Imran 190-200 .\\n\\nVideo HD :  Al-Maghrib Prayer ، Friday 23-8-1438H by : Sheikh Dr. Maher al-muaiqly ، Surat Al-Tawbaa 123-129 .\\n\\nAudio :  Al-Maghrib Prayer ، Friday 23-8-1438H by : Sheikh Dr. Maher al-muaiqly ، Surat Al-Tawbaa 123-129 .\\n\\nVideo HD :  Al-Maghrib Prayer، Thursday 22-8-1438H by : Sheikh Dr. Maher al-muaiqly، Surat Ad-Dhariyat And Al-Munafiqun\\n\\nAudio :  Al-Maghrib Prayer، Thursday 22-8-1438H by: Sheikh Dr. Maher al-muaiqly، Surat Ad-Dhariyat And Al-Munafiqun\\n\\nVideo HD\\n  Al-Maghrib Prayer ، Wednesday 21-8-1438H by : Sheikh Dr. Maher al-muaiqly ، Surat TaHa 99-114 \\n\\nAudio :  Al-Maghrib Prayer ، Wednesday 21-8-1438H by : Sheikh Dr. Maher al-muaiqly ، Surat TaHa 99-114 \\n\\nVideo HD :  Al-Maghrib Prayer   Tuesday 20-8-1438H by : Sheikh Dr. Maher al-muaiqly   Surat Al-Infitar and Ash-Shams.\\n\\nAudio :  Al-Maghrib Prayer   Tuesday 20-8-1438H by : Sheikh Dr. Maher al-muaiqly   Surat Al-Infitar and Ash-Shams.\\n\\nVideo HD :       Al-Maghrib Prayer   Monday 19-8-1438H by : Sheikh Dr. Maher al-muaiqly   Surat An-Nazi at And Abasa .\\n\\nAudio :       Al-Maghrib Prayer   Monday 19-8-1438H by : Sheikh Dr. Maher al-muaiqly   Surat An-Nazi at And Abasa .\\n\\nVideo HD :  Al-Maghrib Prayer Sunday 18-8-1438H by : Sheikh Dr. Maher al muaiqly Surat Al-Duha and Al-Sharh\\n\\nAudio:  Al-Maghrib Prayer Sunday 18-8-1438H by : Sheikh Dr. Maher al muaiqly Surat Al-Duha and Al-Sharh\\n\\nVideo HD :    InshaaAllah sheikh Dr : maher al muaiqly beings his period tomorrow 18-8-1438H for Alasr and Almaghrib salat and it lasts a week .. neutral \n"
     ]
    }
   ],
   "source": [
    "def cleaner(tweet):\n",
    "    tweet = re.sub(\"@[A-Za-z0-9]+\",\"\",tweet) #Remove @ sign\n",
    "    tweet = re.sub(r\"(?:\\@|http?\\://|https?\\://|www)\\S+\", \"\", tweet) #Remove http links\n",
    "    tweet = \" \".join(tweet.split())\n",
    "    tweet = tweet.replace(\"#\", \"\").replace(\"_\", \" \") #Remove hashtag sign but keep the text\n",
    "    tweet = tweet.replace(\"'\", \" \").replace(\"_\", \" \")\n",
    "    tweet = tweet.replace(\"True\", \" \").replace(\"_\", \" \")\n",
    "    tweet = tweet.replace(\"&,?\", \" \").replace(\"_\", \" \")\n",
    "    tweet = tweet.replace(\"\\\"\", \" \").replace(\"_\", \" \")\n",
    "    return tweet\n",
    "\n",
    "x=cleaner(x)\n",
    "print(x)\n"
   ]
  },
  {
   "cell_type": "code",
   "execution_count": 383,
   "id": "fe2b83a5",
   "metadata": {},
   "outputs": [],
   "source": [
    "\n",
    "def countFrequency(my_list, freq):\n",
    " \n",
    "    # Creating an empty dictionary\n",
    "    for item in my_list:\n",
    "        if (item in freq.keys()):\n",
    "            freq[item] += 1\n",
    "    return freq\n",
    "            \n",
    "def political_analysis(texts):\n",
    "    ###clarification: all keywords have been selected based on the frequency of their use, rather than personal opinions\n",
    "    democrats_words = [\"family\", \"care\", \"cut\", \"support\", \"thank\", \"new\", \"student\", \"need\", \"help\", \"equal pay\", \"fair\", \n",
    "        \"bin laden\", \"wall street\", \"worker\", \"veteran\", \"fight\", \"invest\", \"education\", \"military\", \"war\", \"medicare\", \"science\", \n",
    "        \"forward\", \"women\", \"seniors\", \"biden\"]\n",
    "    republicans_words = [\"good\", \"security\", \"great\", \"unite\", \"senate\", \"thank\", \"good\", \"meet\", \"hear\", \"join\", \"government\", \n",
    "        \"flag\", \"church\", \"unemployment\", \"regulation\", \"obamacare\", \"fail\", \"better\", \"faith\", \"business\", \"small business\", \"romney\", \n",
    "        \"leadership\", \"god\", \"debt\", \"spending\", \"success\"]\n",
    "    democrat_dict = {}\n",
    "    republican_dict = {}\n",
    "    democrat_freq = 0\n",
    "    republican_freq = 0\n",
    "\n",
    "    for word in democrats_words:\n",
    "        democrat_dict[word]=0\n",
    "    for word in republicans_words:\n",
    "        republican_dict[word]=0\n",
    "    for text in texts:\n",
    "        democrat_dict = countFrequency(text.split(\" \"), democrat_dict)\n",
    "        republican_dict = countFrequency(text.split(\" \"), republican_dict)\n",
    "    for word in democrat_dict:\n",
    "        democrat_freq+=democrat_dict[word]\n",
    "    for word in republican_dict:\n",
    "        republican_freq+=republican_dict[word]\n",
    "    \n",
    "    if(democrat_freq>republican_freq):\n",
    "        return \"democrat\"\n",
    "    else:\n",
    "        if(democrat_freq<republican_freq):\n",
    "            return \"republican\"\n",
    "   \n",
    "        else:\n",
    "            return \"neutral\""
   ]
  },
  {
   "cell_type": "code",
   "execution_count": 385,
   "id": "18b406e9",
   "metadata": {},
   "outputs": [
    {
     "name": "stdout",
     "output_type": "stream",
     "text": [
      "['False\\r', '\" \"\"\"\"Surah Taha 56 - 76 | sheikh Dr. Maher al_muaiqly | 23th Zul-Qa’dah 1441H \\'Isha\\\\n\\\\nVideo HD :\\\\nhttps://t.co/3LznJ7kfVm\\\\n\\\\nMP3 :\\\\nhttps://t.co/6XhAygp36o https://t.co/fmqSNCX9qM\"\"\"\"\"\\r', \" 'Surah Taha 99 - 114 | sheikh Dr. Maher al_muaiqly | 23th Zul-Qa’dah 1441H Maghrib\\\\n\\\\nVideo HD :\\\\nhttps://t.co/eY65AWYCiL\\\\n\\\\nMP3 :\\\\nhttps://t.co/Fbkut2qX7T https://t.co/82jcFYO9Ts'\\r\", \" 'Surah Taha 1 - 44 | sheikh Dr. Maher al_muaiqly | 23th Zul-Qa’dah 1441H Fajr\\\\n\\\\nVideo HD :\\\\nhttps://t.co/zOb39jzo6y\\\\n\\\\nMP3 :\\\\nhttps://t.co/AA3ucnIobq https://t.co/8k9NTxAHh9'\\r\", '\" \"\"\"\"Surah Al-Isra 23 - 39 | sheikh Dr. Maher al_muaiqly | 19th Zul-Qa’dah 1441H \\'Isha\\\\n\\\\nVideo HD :\\\\nhttps://t.co/9qm1kC5v5i\\\\n\\\\nMP3 :\\\\nhttps://t.co/Fan26sAxuT https://t.co/zWQJEUTkcX\"\"\"\"\"\\r', \" 'Surah Al-Isra 9 - 17 | sheikh Dr. Maher al_muaiqly | 19th Zul-Qa’dah 1441H Maghrib\\\\n\\\\nVideo HD :\\\\nhttps://t.co/DlMqQipELv\\\\n\\\\nMP3 :\\\\nhttps://t.co/JqrhozvCD1 https://t.co/h5OQZyTpmI'\\r\", \" 'Surah Al-Ahqaf 13 - 19 | sheikh Dr. Maher al_muaiqly | 17th Zul-Qa’dah 1441H Maghrib\\\\n\\\\nVideo HD :\\\\nhttps://t.co/I5qBzETa3B\\\\n\\\\nMP3 :\\\\nhttps://t.co/vBuVgDBmWf https://t.co/SbrIRVh0qR'\\r\", \" 'Surah Al-Tawbah 119 - 129 | sheikh Dr. Maher al_muaiqly | 17th Zul-Qa’dah 1441H Fajr\\\\n\\\\nVideo HD :\\\\nhttps://t.co/jK2qfOwBCk\\\\n\\\\nMP3 : \\\\nhttps://t.co/hfPZiB7FrN https://t.co/jUv7ODhvek'\\r\", '\" \"\"\"\"Surah Al-Ahzab {41 - 48} {56 - 59 } | sheikh Dr. Maher al_muaiqly | 11th Zul-Qa’dah 1441H \\'Isha\\\\n\\\\nVideo HD :\\\\nhttps://t.co/guTz5Ih40b\\\\n\\\\nMP3 :\\\\nhttps://t.co/4XJhgQxXRJ https://t.co/SCz3xND5gD\"\"\"\"\"\\r', \" 'Surah Ash-shams - Al-lail | sheikh Dr. Maher al_muaiqly | 11th Zul-Qa’dah 1441H Maghrib\\\\n\\\\nVideo HD :\\\\nhttps://t.co/JSCRj5mquo\\\\n\\\\nMP3 :\\\\nhttps://t.co/IitkIFUtVx https://t.co/NDQMdmjyhi'\\r\", \" 'Surah Nuh | sheikh Dr. Maher al_muaiqly | 11th Zul-Qa’dah 1441H Fajr\\\\n\\\\nVideo HD :\\\\nhttps://t.co/OY5jo9UZaK\\\\n\\\\nMP3 : \\\\nhttps://t.co/OJk47O7fFN https://t.co/KpSSKJnPxK'\\r\", '\" \"\"\"\"Surah An-Naba 17 - 40 &amp; An-Nazi\\'at 27 - 46 | sheikh Dr. Maher al_muaiqly | 5th Zul-Qa’dah 1441H \\'Isha\\\\n\\\\nVideo HD :\\\\nhttps://t.co/DgtPVOUy4F\\\\n\\\\nMP3 :\\\\nhttps://t.co/gAb7sKsxgf https://t.co/SQ1ZQQ8XSY\"\"\"\"\"\\r', '\" \"\"\"\"Surah At-Tin - Al-Ma\\'un | sheikh Dr. Maher al_muaiqly | 5th Zul-Qa’dah 1441H Maghrib\\\\n\\\\nVideo HD :\\\\nhttps://t.co/sxVBfbowrL\\\\n\\\\nMP3 :\\\\nhttps://t.co/fZWSs7eIc4 https://t.co/YsBH7ICwAw\"\"\"\"\"\\r', '\" \"\"\"\"Surah Al-Qiyaama - Al-Balad | sheikh Dr. Maher al_muaiqly | 24th Shawaal 1441H \\'Isha\\\\n\\\\nVideo HD :\\\\nhttps://t.co/dEvwxm03xr\\\\n\\\\nMP3 :\\\\nhttps://t.co/rRMqX1Xb1y https://t.co/aup4CeeU59\"\"\"\"\"\\r', \" 'Surah Al-Fajr | sheikh Dr. Maher al_muaiqly | 24th Shawaal 1441H Maghrib\\\\n\\\\nVideo HD :\\\\nhttps://t.co/2nxy5VPA8A\\\\n\\\\nMP3 :\\\\nhttps://t.co/FhOKSMUxzh https://t.co/myGfci5RsA'\\r\", \" 'Surah Aal-i-Imraan 121 - 136 | sheikh Dr. Maher al_muaiqly | 24th Shawaal 1441H Fajr\\\\n\\\\nVideo HD :\\\\nhttps://t.co/ZcayEOfi1k\\\\n\\\\nMP3 :\\\\nhttps://t.co/MOVw6YebQT https://t.co/K8G7EFn8b1'\\r\", '\" \"\"\"\"Surah Ash-Shu\\'ara 69 - 104 | sheikh Dr. Maher al_muaiqly | 19th Shawaal 1441H \\'lsha\\\\n\\\\nFull Video HD :\\\\nhttps://t.co/AMdOMqlmnk https://t.co/QSWdNreBdG\"\"\"\"\"\\r', \" 'Surah Al-Hashr 18 - 24 | sheikh Dr. Maher al_muaiqly | 19th Shawaal 1441H Maghrib\\\\n\\\\nFull Video HD : \\\\nhttps://t.co/tBh8TVGOi6\\\\n\\\\nMp3: \\\\nhttps://t.co/unGyiMNteX https://t.co/KrmuFiKGMe'\\r\", \" 'Surah Az-Zumar 53 - 75 | sheikh Dr. Maher al_muaiqly | 19th Shawaal 1441H fajr\\\\n\\\\nVideo HD :\\\\nhttps://t.co/h4L8k74VDk https://t.co/2G22y3yHJH'\\r\", '\" \"\"\"\"Surah Qaf 16 - 45 | sheikh Dr. Maher al_muaiqly | 13th Shawaal 1441H \\'Isha\\\\n\\\\nVideo HD : \\\\nhttps://t.co/pkGV1L4X0G https://t.co/ee3ozbXyFC\"\"\"\"\"\\r', \" 'Surah Al-Fath 27 - 29 | sheikh Dr. Maher al_muaiqly | 13th Shawaal 1441H Maghrib\\\\n\\\\nVideo HD : \\\\n\\\\nhttps://t.co/AWqXdeJYaV\\\\n\\\\nAudio :\\\\n\\\\nhttps://t.co/4j6Ox4lPtl'\\r\", \" 'Surah Al-Ahzab  56 - 73 | sheikh Dr. Maher al_muaiqly | 13th Shawaal 1441H Fajr\\\\n\\\\nVideo HD:\\\\nhttps://t.co/WUWMLdQhOM\\\\n\\\\nAudio :\\\\nhttps://t.co/ZC6prwKQ0K https://t.co/9lFIRyNAxk'\\r\", \" '﴿ إنَّ اللَّهَ وَمَلَائِكَتَهُ يُصَلُّونَ عَلى النَّبِيِّ يَا أَيُّهَاالَّذِينَ آَمَنُوا صَلُّوا عَلَيْهِ وسَلِّمُوا تَسْليمًا ﴾\\\\n#Maher_almuaiqly https://t.co/6JRZ34V8Jg'\\r\", '\" \"\"\"\"Surah Al-Furqan 61 - 77 | sheikh Dr. Maher al_muaiqly | 9th Shawaal 1441H \\'Isha\\\\n\\\\nFull Video HD : \\\\nhttps://t.co/KClkE1wSba\\\\n\\\\nAudio : \\\\nhttps://t.co/MynnJkUItf https://t.co/xklxkOFACx\"\"\"\"\"\\r', \" 'Surah Al-Baqarah 284 - 286  | sheikh Dr. Maher al_muaiqly | 9th Shawaal 1441H Maghrib\\\\n\\\\nFull video HD : \\\\n\\\\nhttps://t.co/f4xeYgq18A\\\\n\\\\nAudio: \\\\nhttps://t.co/GUtoeUVSGf https://t.co/RneXzKOTdV'\\r\", '\" \"\"\"\"Surah Al-Ma\\'arij | sheikh Dr. Maher al-muaiqly | 9th Shawaal 1441H Fajr\\\\n\\\\nFull video HD : \\\\nhttps://t.co/C7u6xfG5mw\\\\n\\\\nAudio : \\\\nhttps://t.co/TRqlR9AcWY https://t.co/QSldU4YscT\"\"\"\"\"\\r', '\" \"\"\"\"6th Shawaal 1441 H Jummah salaah | Surah Al-A\\'la and Al-Ghashiyah | Sheikh Dr.Maher al-muaiqly\\\\n\\\\nVideo HD :\\\\nhttps://t.co/TMLn7cseJi\\\\n\\\\nAudio :\\\\nhttps://t.co/Gyp6RRMIBB https://t.co/7bFvVrpEcy\"\"\"\"\"\\r', \" '6th shawaal 1441 H Jummah khutbah | Sheikh Dr.Maher al_muaiqly\\\\n\\\\nVideo HD : https://t.co/HkdKCXuF6q\\\\n\\\\nMp3 : https://t.co/qJL488eFPT https://t.co/NZThVjmxRM'\\r\", \" 'Surah All Emran  63-148  HD : https://t.co/MRtZjqvCsB\\\\nDuaa of 3rd Night HD : https://t.co/L9pfsj5a8k\\\\n\\\\nby : Sheikh Dr. Maher al-muaiqly'\\r\", \" 'Al-Maghrib Prayer - Friday 30-8-1438H by : Sheikh Dr. Maher al-muaiqly - Surat Al-Baqarah 284-286 .\\\\n\\\\nMP3 : https://t.co/12mvYGafnK'\\r\", \" 'Al-Maghrib Prayer - Friday 30-8-1438H by : Sheikh Dr. Maher al-muaiqly - Surat Al-Baqarah 284-286 .\\\\n\\\\nVideo HD : https://t.co/SWX79ZqCVK'\\r\", \" 'Al-Maghrib Prayer - Thursday 29-8-1438H by : Sheikh Dr. Maher al-muaiqly - Surat Al-Nur 34-40 .\\\\n\\\\nMP3 : https://t.co/ZM36iVrBmP'\\r\", \" 'Al-Maghrib Prayer - Thursday 29-8-1438H by : Sheikh Dr. Maher al-muaiqly - Surat Al-Nur 34-40 .\\\\n\\\\nVideo HD : https://t.co/NJBNNEeMg4'\\r\", \" 'Al-Maghrib Prayer - Wednesday 28-8-1438H by : Sheikh Dr. Maher al-muaiqly - Surat alqiama .\\\\n\\\\nAudio : https://t.co/xAmcjJARFN'\\r\", \" 'Al-Maghrib Prayer - Wednesday 28-8-1438H by : Sheikh Dr. Maher al-muaiqly - Surat alqiama .\\\\n\\\\nVideo HD : https://t.co/HLURpRJT3M'\\r\", \" 'Al-Maghrib Prayer - Tuesday 27-8-1438H by : Sheikh Dr. Maher al-muaiqly - Surat Maryam77-98 .\\\\n\\\\nVideo HD : https://t.co/crycArHfMa'\\r\", \" 'Al-Maghrib Prayer - Tuesday 27-8-1438H by : Sheikh Dr. Maher al-muaiqly - Surat Maryam77-98 .\\\\n\\\\nVideo HD : https://t.co/jtkApfRdjb'\\r\", \" 'Al-Maghrib Prayer ، Monday 26-8-1438H by : Sheikh Dr. Maher al-muaiqly ، Surat Al-Haqqa 13-37 .\\\\n\\\\nAudio : https://t.co/upeXfKkTlb'\\r\", \" 'Al-Maghrib Prayer ، Monday 26-8-1438H by : Sheikh Dr. Maher al-muaiqly ، Surat Al-Haqqa 13-37 .\\\\n\\\\nVideo HD : https://t.co/ziOPjPmp9S'\\r\", \" 'Al-Maghrib Prayer ، Sunday 25-8-1438H by : Sheikh Dr. Maher al-muaiqly ، Surat Al-Hashr 18-24 .\\\\n\\\\nAudio : https://t.co/oozGY2GIeU'\\r\", \" 'Al-Maghrib Prayer ، Sunday 25-8-1438H by : Sheikh Dr. Maher al-muaiqly ، Surat Al-Hashr 18-24 .\\\\n\\\\nVideo HD : https://t.co/HMXRvC6EuR'\\r\", \" 'Al-Maghrib Prayer ، Saturday 24-8-1438H by : Sheikh Dr. Maher al-muaiqly ، Surat Al-Imran 190-200 .\\\\n\\\\nAudio : https://t.co/9M2ub2jkMk'\\r\", \" 'Al-Maghrib Prayer ، Saturday 24-8-1438H by : Sheikh Dr. Maher al-muaiqly ، Surat Al-Imran 190-200 .\\\\n\\\\nVideo HD : https://t.co/xtQbmxmwug'\\r\", \" 'Al-Maghrib Prayer ، Friday 23-8-1438H by : Sheikh Dr. Maher al-muaiqly ، Surat Al-Tawbaa 123-129 .\\\\n\\\\nAudio : https://t.co/M4PnEZjBX5'\\r\", \" 'Al-Maghrib Prayer ، Friday 23-8-1438H by : Sheikh Dr. Maher al-muaiqly ، Surat Al-Tawbaa 123-129 .\\\\n\\\\nVideo HD : https://t.co/Ns4wuEjJgy'\\r\", \" 'Al-Maghrib Prayer، Thursday 22-8-1438H by : Sheikh Dr. Maher al-muaiqly، Surat Ad-Dhariyat And Al-Munafiqun\\\\n\\\\nAudio : https://t.co/gFiO6x8mUr'\\r\", \" 'Al-Maghrib Prayer، Thursday 22-8-1438H by: Sheikh Dr. Maher al-muaiqly، Surat Ad-Dhariyat And Al-Munafiqun\\\\n\\\\nVideo HD\\\\nhttps://t.co/bQhZX07QNA'\\r\", \" 'Al-Maghrib Prayer ، Wednesday 21-8-1438H by : Sheikh Dr. Maher al-muaiqly ، Surat TaHa  99-114 \\\\n\\\\nAudio : https://t.co/JOmGW2qwy4'\\r\", \" 'Al-Maghrib Prayer ، Wednesday 21-8-1438H by : Sheikh Dr. Maher al-muaiqly ، Surat TaHa  99-114 \\\\n\\\\nVideo HD : https://t.co/wvZTsGgDqn'\\r\", \" 'Al-Maghrib Prayer _ Tuesday 20-8-1438H by : Sheikh Dr. Maher al-muaiqly _ Surat Al-Infitar and Ash-Shams.\\\\n\\\\nAudio : https://t.co/dFXC3iidQ3'\\r\", \" 'Al-Maghrib Prayer _ Tuesday 20-8-1438H by : Sheikh Dr. Maher al-muaiqly _ Surat Al-Infitar and Ash-Shams.\\\\n\\\\nVideo HD :https://t.co/6Wym6A9YOE'\\r\", '\" \"\"\"\"Al-Maghrib Prayer _ Monday 19-8-1438H by : Sheikh Dr. Maher al-muaiqly _ Surat An-Nazi\\'at And Abasa .\\\\n\\\\nAudio : https://t.co/FNm51NyP9h\"\"\"\"\"\\r', '\" \"\"\"\"Al-Maghrib Prayer _ Monday 19-8-1438H by : Sheikh Dr. Maher al-muaiqly _ Surat An-Nazi\\'at And Abasa .\\\\n\\\\nVideo HD : https://t.co/yBRnctvPWz\"\"\"\"\"\\r', \" 'Al-Maghrib Prayer Sunday 18-8-1438H by : Sheikh Dr. Maher al_muaiqly Surat Al-Duha and Al-Sharh\\\\n\\\\nAudio: https://t.co/0JeknyHAK0'\\r\", \" 'Al-Maghrib Prayer Sunday 18-8-1438H by : Sheikh Dr. Maher al_muaiqly Surat Al-Duha and Al-Sharh\\\\n\\\\nVideo HD : https://t.co/DGb2PvMnB7'\\r\", '\" \\'InshaaAllah sheikh Dr : maher al_muaiqly beings his period tomorrow 18-8-1438H for Alasr and Almaghrib salat and it lasts a week .. https://t.co/6HhplA4Bps\\'\"\"\\r', 'neutral\"\\r', '']\n",
      "neutral\n"
     ]
    }
   ],
   "source": [
    "print(political_analysis(dades))"
   ]
  },
  {
   "cell_type": "code",
   "execution_count": 390,
   "id": "3e7a251c",
   "metadata": {},
   "outputs": [],
   "source": [
    "def religion_analysis(texts):\n",
    "    islam_words = [\"allah\", \"fatwa\", \"hadj\", \"hajj\",\"hijjah\", \"islam\", \"mecca\", \"muhammad\", \"mosque\", \"muslim\", \n",
    "        \"prophet\", \"ramadan\", \"salam\", \"salaam\", \"sharia\", \"suhoor\", \"sunna\", \"sunnah\", \"sunni\", \"koran\", \"coran\", \n",
    "        \"qur'an\", \"hijab\", \"halal\", \"hadith\", \"imam\", \"madrassah\", \"salat\", \"sawm\", \"shahada\", \"sura\", \"tafsir\",\n",
    "        \"zakat\", \"kaaba\", \"eid al fitr\",\"khutbah\", \"eid al adha\", \"p.b.u.h\"]\n",
    "    catholic_words = [\"apostle\", \"assembly\", \"bible\", \"blessed sacrament\", \"celebrant\", \"discernment\", \"disciple\", \n",
    "        \"easter\", \"gospel\", \"eucharist\", \"grace\", \"communion\", \"holy water\", \"jesus\", \"christ\", \"new testament\", \"old testament\",\n",
    "        \"sacrament\", \"catholic\", \"christmas\", \"christian\", \"confession\", \"convent\", \"godparent\", \"immaculate\", \"pentateuch\", \"saint\",\n",
    "        \"protestant\", \"church\", \"ecclesiastic\", \"episcopal\"]\n",
    "    jewish_words = [\"torah\", \"shalom\", \"kosher\", \"chutzpah\", \"kippah\", \"mazel tov\", \"adar\", \"achashverosh\", \"bimah\",\n",
    "        \"daven\", \"gelilah\", \"hakafot\", \"halachah\", \"iyar\", \"kiddish\", \"nisan\", \"nine day\", \"shmot\", \"shul\", \"simchat\",\n",
    "        \"vayikra\", \"yizkor\", \"zichrono livracha\", \"yerushalayim\", \"yisrael\"]\n",
    "    budism_words = [\"ajahn chah\", \"advaita vedanta\", \"ayya khema\", \"bhikkhu payutto\", \"buddha\", \"buddhism\", \"buddhist\",\n",
    "        \"chan\", \"chi kung\", \"dana\", \"dharma\", \"dhamma\", \"gelugpa\", \"jhana\", \"koan\", \"mahasi\", \"mahayana\", \"nibbana\", \n",
    "        \"nirvana\", \"pali\", \"sanskrit\", \"zen\"]\n",
    "\n",
    "    islam_dict = {}\n",
    "    catholic_dict = {}\n",
    "    jewish_dict = {}\n",
    "    budism_dict = {}\n",
    "\n",
    "    results={}\n",
    "    results[\"catholic\"]=0\n",
    "    results[\"islam\"]=0\n",
    "    results[\"jewish\"]=0\n",
    "    results[\"budism\"]=0\n",
    "\n",
    "    for word in islam_words:\n",
    "        islam_dict[word]=0\n",
    "    for word in catholic_words:\n",
    "        catholic_dict[word]=0\n",
    "    for word in jewish_words:\n",
    "        jewish_dict[word]=0\n",
    "    for word in budism_words:\n",
    "        budism_dict[word]=0\n",
    "    \n",
    "        \n",
    "    for text in texts:\n",
    "        islam_dict = countFrequency(text.split(' '), islam_dict)\n",
    "        catholic_dict = countFrequency(text.split(' '), catholic_dict)\n",
    "        jewish_dict = countFrequency(text.split(' '), jewish_dict)\n",
    "        budism_dict = countFrequency(text.split(' '), budism_dict)\n",
    "    for word in islam_dict:\n",
    "        results[\"islam\"]+=islam_dict[word]\n",
    "    for word in catholic_dict:\n",
    "        results[\"catholic\"]+=catholic_dict[word]\n",
    "    for word in jewish_dict:\n",
    "        results[\"jewish\"]+=jewish_dict[word]\n",
    "    for word in budism_dict:\n",
    "        results[\"budism\"]+=budism_dict[word]\n",
    "    print(results)\n",
    "\n",
    "    max_value=max(results.items(), key=operator.itemgetter(1))[0]\n",
    "    if (results.get(max_value) > 0):\n",
    "        return max_value\n",
    "    else:\n",
    "        return \"neutral\""
   ]
  },
  {
   "cell_type": "code",
   "execution_count": 391,
   "id": "1c36b372",
   "metadata": {},
   "outputs": [
    {
     "name": "stdout",
     "output_type": "stream",
     "text": [
      "{'catholic': 0, 'islam': 0, 'jewish': 0, 'budism': 0}\n",
      "islam\n"
     ]
    }
   ],
   "source": [
    "print(religion_analysis(dades))"
   ]
  },
  {
   "cell_type": "code",
   "execution_count": null,
   "id": "301eb461",
   "metadata": {},
   "outputs": [],
   "source": []
  },
  {
   "cell_type": "code",
   "execution_count": null,
   "id": "37e5cd40",
   "metadata": {},
   "outputs": [],
   "source": []
  }
 ],
 "metadata": {
  "kernelspec": {
   "display_name": "Python 3",
   "language": "python",
   "name": "python3"
  },
  "language_info": {
   "codemirror_mode": {
    "name": "ipython",
    "version": 3
   },
   "file_extension": ".py",
   "mimetype": "text/x-python",
   "name": "python",
   "nbconvert_exporter": "python",
   "pygments_lexer": "ipython3",
   "version": "3.8.8"
  }
 },
 "nbformat": 4,
 "nbformat_minor": 5
}
