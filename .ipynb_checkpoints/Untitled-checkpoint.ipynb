{
 "cells": [
  {
   "cell_type": "code",
   "execution_count": 216,
   "id": "005657c5",
   "metadata": {
    "scrolled": true
   },
   "outputs": [],
   "source": [
    "import emoji\n",
    "import numpy as np\n",
    "import os\n",
    "import lithops\n",
    "from lithops.storage import Storage\n",
    "import numpy as np\n",
    "import pandas as pd\n",
    "import io\n",
    "import csv\n",
    "import re\n",
    "import nltk\n"
   ]
  },
  {
   "cell_type": "code",
   "execution_count": 15,
   "id": "0a861033",
   "metadata": {},
   "outputs": [],
   "source": [
    "\n",
    "import sys\n",
    "try:\n",
    "    import lithops\n",
    "except:\n",
    "    !{sys.executable} -m pip install lithops\n",
    "    import lithops"
   ]
  },
  {
   "cell_type": "code",
   "execution_count": 20,
   "id": "a70c0bcc",
   "metadata": {
    "scrolled": true
   },
   "outputs": [],
   "source": [
    "config = {'ibm_cf':  {'endpoint' : 'https://eu-gb.functions.cloud.ibm.com',\n",
    "                      'namespace'   : 'ubenabdelkrim2@gmail.com_dev',\n",
    "                      'api_key'     : '7c45d3db-a61f-4ca6-afdd-45d749ebbda3:9Z1CfSBEeif85med0hgE9pefPC8KI6vrrCanErdmMKiajaMKKzfOd57TBQKF4E9I'}, \n",
    "          'ibm_cos': {'region'   : 'eu-de',\n",
    "                    'access_key' : '5286a241e5de460a96de29466c635424',\n",
    "                    'secret_key' : '1e4c0eaec93783aab1243240ffe8f0d90dbae5def4c9aeae'},\n",
    "          'lithops' : {'storage_bucket' : 'sd-task2'}}"
   ]
  },
  {
   "cell_type": "code",
   "execution_count": 21,
   "id": "6b4a9795",
   "metadata": {},
   "outputs": [
    {
     "name": "stderr",
     "output_type": "stream",
     "text": [
      "2021-06-17 21:22:24,604 [INFO] lithops.config -- Lithops v2.3.4\n",
      "2021-06-17 21:22:25,248 [INFO] lithops.storage.backends.ibm_cos.ibm_cos -- IBM COS Storage client created - Region: eu-de\n",
      "2021-06-17 21:22:25,249 [INFO] lithops.serverless.backends.ibm_cf.ibm_cf -- IBM CF client created - Region: eu-gb - Namespace: ubenabdelkrim2@gmail.com_dev\n",
      "2021-06-17 21:22:25,250 [INFO] lithops.executors -- Serverless Executor created with ID: cdce9b-0\n"
     ]
    }
   ],
   "source": [
    "fexec = lithops.FunctionExecutor(config=config)\n"
   ]
  },
  {
   "cell_type": "code",
   "execution_count": 294,
   "id": "30134bf5",
   "metadata": {},
   "outputs": [
    {
     "name": "stderr",
     "output_type": "stream",
     "text": [
      "2021-06-18 06:14:59,096 [INFO] lithops.storage.backends.ibm_cos.ibm_cos -- IBM COS Storage client created - Region: eu-de\n"
     ]
    }
   ],
   "source": [
    "storage=Storage()\n"
   ]
  },
  {
   "cell_type": "code",
   "execution_count": 295,
   "id": "6378ed82",
   "metadata": {
    "scrolled": false
   },
   "outputs": [
    {
     "name": "stdout",
     "output_type": "stream",
     "text": [
      "['True\\r', \" 'Puedo llevarme un Samsung Galaxy S7 GRATIS! Participa aquí: https://t.co/yZjaSvVXkP'\\r\", \" 'Sorteo Samsung Galaxy S7 https://t.co/nJ0kepNQHc'\\r\", \" 'Nexus 6P International #Giveaway @androidauth https://t.co/WBM7Vf3vIW'\\r\", \" 'Galaxy S7 International #Giveaway @androidauth https://t.co/RY2QrSc7NO'\\r\", \" 'PARTICIPO EN EL SORTEO HONOR 7 DE @eloygomez &amp; @androtube mas info: https://t.co/SFHzG3HMkK ó https://t.co/dYSfjGk4eR #SORTEOHONOR7'\\r\", \" 'Yo SI participo en el #SorteoCellularLine de @2x1digital ¿y tu a que esperas?  https://t.co/io543Y8uRu'\\r\", \" '#OperaMax ayuda a ahorrar los datos mientras ve Netflix! Gana un Nexus 6p  Nexus Player  o Sphero BB8!  https://t.co/6pXB6KAXgu #MaxNetflix'\\r\", \" '#directoTFB  @ErnestDift'\\r\", \" 'Estoy participando en el #SorteoXperiaZ5 de @TuTecnoMundo para ganarlo Gratis. ¡Deseadme suerte! https://t.co/wFAr4bHqW3'\\r\", \" '¡Voy a ganar el OnePlus 2 que sortean en @Andro4all! http://t.co/TcKfPhprJy #OnePlus2Andro4all'\\r\", \" '#OnePlus2Andro4all'\\r\", '\" \\'Participo en el #SorteoGalaxyS6 de @ProAndroides !\\'\"\"\\r', 'neutral\"\\r', '']\n"
     ]
    }
   ],
   "source": [
    "dades = storage.get_object('sd-task2','dades.csv')\n",
    "x=dades.decode(\"utf-8\")\n",
    "\n",
    "\n",
    "missatges = []\n",
    "dades=x.split('\\n')\n",
    "for dada in dades:\n",
    "    missatges.append(dada.split(' '))\n",
    "    \n",
    "print(dades)"
   ]
  },
  {
   "cell_type": "code",
   "execution_count": 296,
   "id": "e0f77adf",
   "metadata": {},
   "outputs": [
    {
     "name": "stdout",
     "output_type": "stream",
     "text": [
      "   Puedo llevarme un Samsung Galaxy S7 GRATIS! Participa aquí:  Sorteo Samsung Galaxy S7  Nexus 6P International Giveaway  Galaxy S7 International Giveaway  PARTICIPO EN EL SORTEO HONOR 7 DE &amp; mas info: ó SORTEOHONOR7   Yo SI participo en el SorteoCellularLine de ¿y tu a que esperas?  OperaMax ayuda a ahorrar los datos mientras ve Netflix! Gana un Nexus 6p Nexus Player o Sphero BB8! MaxNetflix   directoTFB    Estoy participando en el SorteoXperiaZ5 de para ganarlo Gratis. ¡Deseadme suerte!  ¡Voy a ganar el OnePlus 2 que sortean en ! OnePlus2Andro4all   OnePlus2Andro4all     Participo en el SorteoGalaxyS6 de !    neutral \n"
     ]
    }
   ],
   "source": [
    "def cleaner(tweet):\n",
    "    tweet = re.sub(\"@[A-Za-z0-9]+\",\"\",tweet) #Remove @ sign\n",
    "    tweet = re.sub(r\"(?:\\@|http?\\://|https?\\://|www)\\S+\", \"\", tweet) #Remove http links\n",
    "    tweet = \" \".join(tweet.split())\n",
    "    tweet = tweet.replace(\"#\", \"\").replace(\"_\", \" \") #Remove hashtag sign but keep the text\n",
    "    tweet = tweet.replace(\"'\", \" \").replace(\"_\", \" \")\n",
    "    tweet = tweet.replace(\"True\", \" \").replace(\"_\", \" \")\n",
    "    tweet = tweet.replace(\"&,?\", \" \").replace(\"_\", \" \")\n",
    "    tweet = tweet.replace(\"\\\"\", \" \").replace(\"_\", \" \")\n",
    "    return tweet\n",
    "\n",
    "x=cleaner(x)\n",
    "print(x)\n"
   ]
  },
  {
   "cell_type": "code",
   "execution_count": 299,
   "id": "1cae1575",
   "metadata": {},
   "outputs": [
    {
     "ename": "IndentationError",
     "evalue": "expected an indented block (<ipython-input-299-3dba2827e0ec>, line 6)",
     "output_type": "error",
     "traceback": [
      "\u001b[1;36m  File \u001b[1;32m\"<ipython-input-299-3dba2827e0ec>\"\u001b[1;36m, line \u001b[1;32m6\u001b[0m\n\u001b[1;33m    return freq\u001b[0m\n\u001b[1;37m    ^\u001b[0m\n\u001b[1;31mIndentationError\u001b[0m\u001b[1;31m:\u001b[0m expected an indented block\n"
     ]
    }
   ],
   "source": [
    "\n",
    "def countFrequency(my_list, freq):\n",
    " \n",
    "    # Creating an empty dictionary\n",
    "    for item in my_list:\n",
    "        if (item in freq):\n",
    "            freq[item] += 1\n",
    "    return freq\n",
    "            \n",
    "def political_analysis(texts):\n",
    "    ###clarification: all keywords have been selected based on the frequency of their use, rather than personal opinions\n",
    "    democrats_words = [\"family\", \"care\", \"cut\", \"support\", \"thank\", \"new\", \"student\", \"need\", \"help\", \"equal pay\", \"fair\", \n",
    "        \"bin laden\", \"wall street\", \"worker\", \"veteran\", \"fight\", \"invest\", \"education\", \"military\", \"war\", \"medicare\", \"science\", \n",
    "        \"forward\", \"women\", \"seniors\", \"biden\"]\n",
    "    republicans_words = [\"good\", \"security\", \"great\", \"unite\", \"senate\", \"thank\", \"good\", \"meet\", \"hear\", \"join\", \"government\", \n",
    "        \"flag\", \"church\", \"unemployment\", \"regulation\", \"obamacare\", \"fail\", \"better\", \"faith\", \"business\", \"small business\", \"romney\", \n",
    "        \"leadership\", \"god\", \"debt\", \"spending\", \"success\"]\n",
    "    democrat_dict = {}\n",
    "    republican_dict = {}\n",
    "    democrat_freq = 0\n",
    "    republican_freq = 0\n",
    "\n",
    "    for word in democrats_words:\n",
    "        democrat_dict[word]=0\n",
    "    for word in republicans_words:\n",
    "        republican_dict[word]=0\n",
    "    for text in texts:\n",
    "        democrat_dict = countFrequency(text.split(\" \"), democrat_dict)\n",
    "        republican_dict = countFrequency(text.split(\" \"), republican_dict)\n",
    "    for word in democrat_dict.keys():\n",
    "        democrat_freq+=democrat_dict[word]\n",
    "    for word in republican_dict.keys():\n",
    "        republican_freq+=republican_dict[word]\n",
    "    \n",
    "    print(str(republican_dict))\n",
    "    if(democrat_freq>republican_freq):\n",
    "        print(str(democrat_freq) +\" \"+str(republican_freq))        \n",
    "        return \"democrat\"\n",
    "    else:\n",
    "        if(democrat_freq<republican_freq):\n",
    "            return \"republican\"\n",
    "            print(str(democrat_freq) +\" \"+str(republican_freq))\n",
    "   \n",
    "        else:\n",
    "            print(str(democrat_freq) +\" \"+str(republican_freq))\n",
    "            return \"neutral\""
   ]
  },
  {
   "cell_type": "code",
   "execution_count": 298,
   "id": "02241419",
   "metadata": {},
   "outputs": [
    {
     "name": "stdout",
     "output_type": "stream",
     "text": [
      "{'good': 0, 'security': 0, 'great': 0, 'unite': 0, 'senate': 0, 'thank': 0, 'meet': 0, 'hear': 0, 'join': 0, 'government': 0, 'flag': 0, 'church': 0, 'unemployment': 0, 'regulation': 0, 'obamacare': 0, 'fail': 0, 'better': 0, 'faith': 0, 'business': 0, 'small business': 0, 'romney': 0, 'leadership': 0, 'god': 0, 'debt': 0, 'spending': 0, 'success': 0, 'True\\r': 1, '': 17, \"'Puedo\": 1, 'llevarme': 1, 'un': 2, 'Samsung': 2, 'Galaxy': 2, 'S7': 3, 'GRATIS!': 1, 'Participa': 1, 'aquí:': 1, \"https://t.co/yZjaSvVXkP'\\r\": 1, \"'Sorteo\": 1, \"https://t.co/nJ0kepNQHc'\\r\": 1, \"'Nexus\": 1, '6P': 1, 'International': 2, '#Giveaway': 2, '@androidauth': 2, \"https://t.co/WBM7Vf3vIW'\\r\": 1, \"'Galaxy\": 1, \"https://t.co/RY2QrSc7NO'\\r\": 1, \"'PARTICIPO\": 1, 'EN': 1, 'EL': 1, 'SORTEO': 1, 'HONOR': 1, '7': 1, 'DE': 1, '@eloygomez': 1, '&amp;': 1, '@androtube': 1, 'mas': 1, 'info:': 1, 'https://t.co/SFHzG3HMkK': 1, 'ó': 1, 'https://t.co/dYSfjGk4eR': 1, \"#SORTEOHONOR7'\\r\": 1, \"'Yo\": 1, 'SI': 1, 'participo': 1, 'en': 4, 'el': 4, '#SorteoCellularLine': 1, 'de': 3, '@2x1digital': 1, '¿y': 1, 'tu': 1, 'a': 3, 'que': 2, 'esperas?': 1, \"https://t.co/io543Y8uRu'\\r\": 1, \"'#OperaMax\": 1, 'ayuda': 1, 'ahorrar': 1, 'los': 1, 'datos': 1, 'mientras': 1, 've': 1, 'Netflix!': 1, 'Gana': 1, 'Nexus': 2, '6p': 1, 'Player': 1, 'o': 1, 'Sphero': 1, 'BB8!': 1, 'https://t.co/6pXB6KAXgu': 1, \"#MaxNetflix'\\r\": 1, \"'#directoTFB\": 1, \"@ErnestDift'\\r\": 1, \"'Estoy\": 1, 'participando': 1, '#SorteoXperiaZ5': 1, '@TuTecnoMundo': 1, 'para': 1, 'ganarlo': 1, 'Gratis.': 1, '¡Deseadme': 1, 'suerte!': 1, \"https://t.co/wFAr4bHqW3'\\r\": 1, \"'¡Voy\": 1, 'ganar': 1, 'OnePlus': 1, '2': 1, 'sortean': 1, '@Andro4all!': 1, 'http://t.co/TcKfPhprJy': 1, \"#OnePlus2Andro4all'\\r\": 1, \"'#OnePlus2Andro4all'\\r\": 1, '\"': 1, \"'Participo\": 1, '#SorteoGalaxyS6': 1, '@ProAndroides': 1, '!\\'\"\"\\r': 1, 'neutral\"\\r': 1}\n",
      "132 132\n",
      "neutral\n"
     ]
    }
   ],
   "source": [
    "print(political_analysis(dades))"
   ]
  },
  {
   "cell_type": "code",
   "execution_count": null,
   "id": "768deb1c",
   "metadata": {},
   "outputs": [],
   "source": []
  }
 ],
 "metadata": {
  "kernelspec": {
   "display_name": "Python 3",
   "language": "python",
   "name": "python3"
  },
  "language_info": {
   "codemirror_mode": {
    "name": "ipython",
    "version": 3
   },
   "file_extension": ".py",
   "mimetype": "text/x-python",
   "name": "python",
   "nbconvert_exporter": "python",
   "pygments_lexer": "ipython3",
   "version": "3.8.8"
  }
 },
 "nbformat": 4,
 "nbformat_minor": 5
}
