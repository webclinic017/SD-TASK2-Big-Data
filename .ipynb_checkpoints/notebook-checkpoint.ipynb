{
 "cells": [
  {
   "cell_type": "code",
   "execution_count": 2,
   "id": "5a60a7a8-bae1-4c34-80b0-8b2d7dac99bc",
   "metadata": {},
   "outputs": [],
   "source": [
    "import numpy as np\n",
    "import os\n",
    "import pandas as pd"
   ]
  },
  {
   "cell_type": "code",
   "execution_count": null,
   "id": "4ec5539b-f518-47b5-b4e8-a87ac18ea1eb",
   "metadata": {},
   "outputs": [],
   "source": []
  },
  {
   "cell_type": "code",
   "execution_count": null,
   "id": "ebe59d67-282b-4aa0-a2cd-414d1fbdedfe",
   "metadata": {},
   "outputs": [],
   "source": [
    "def total_scoring(obj_id, storage):\n",
    "    score = 0\n",
    "    posts = storage.get_cloudobject(obj_id).decode()\n",
    "    posts = posts.split('\\n')\n",
    "    texts = []\n",
    "    for post in posts:\n",
    "        post = post.split(',')\n",
    "        if len(post)>5:\n",
    "            texts.append(post[6])\n",
    "    csv_path = write_csv_posts(texts)\n",
    "    df = pd.read_csv(csv_path, index_col=[0], error_bad_lines=False)\n",
    "    df.head()\n",
    "    return score"
   ]
  },
  {
   "cell_type": "code",
   "execution_count": null,
   "id": "7bffdd1f-9723-4315-9e3f-be698f9f1c05",
   "metadata": {},
   "outputs": [],
   "source": [
    "def invoke_notebook(obj_id, fexec):\n",
    "    fexec.map(total_scoring, obj_id)\n",
    "    score = fexec.get_result()"
   ]
  },
  {
   "cell_type": "code",
   "execution_count": null,
   "id": "d2b44aff-30b6-425b-b56c-2c17b6acf106",
   "metadata": {},
   "outputs": [],
   "source": []
  }
 ],
 "metadata": {
  "kernelspec": {
   "display_name": "Python 3",
   "language": "python",
   "name": "python3"
  },
  "language_info": {
   "codemirror_mode": {
    "name": "ipython",
    "version": 3
   },
   "file_extension": ".py",
   "mimetype": "text/x-python",
   "name": "python",
   "nbconvert_exporter": "python",
   "pygments_lexer": "ipython3",
   "version": "3.9.2"
  }
 },
 "nbformat": 4,
 "nbformat_minor": 5
}
