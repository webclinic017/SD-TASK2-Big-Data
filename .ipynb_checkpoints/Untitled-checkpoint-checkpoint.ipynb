{
 "cells": [
  {
   "cell_type": "code",
   "execution_count": 1,
   "id": "005657c5",
   "metadata": {
    "scrolled": true
   },
   "outputs": [],
   "source": [
    "import emoji\n",
    "import numpy as np\n",
    "import os\n",
    "import lithops\n",
    "from lithops.storage import Storage\n",
    "import numpy as np\n",
    "import pandas as pd\n",
    "import io\n",
    "import csv\n",
    "import re\n",
    "import operator\n",
    "import facebook\n"
   ]
  },
  {
   "cell_type": "code",
   "execution_count": 2,
   "id": "0a861033",
   "metadata": {},
   "outputs": [],
   "source": [
    "\n",
    "import sys\n",
    "try:\n",
    "    import lithops\n",
    "except:\n",
    "    !{sys.executable} -m pip install lithops\n",
    "    import lithops"
   ]
  },
  {
   "cell_type": "code",
   "execution_count": 3,
   "id": "a70c0bcc",
   "metadata": {
    "scrolled": true
   },
   "outputs": [],
   "source": [
    "config = {'ibm_cf':  {'endpoint' : 'https://eu-gb.functions.cloud.ibm.com',\n",
    "                      'namespace'   : 'ubenabdelkrim2@gmail.com_dev',\n",
    "                      'api_key'     : '7c45d3db-a61f-4ca6-afdd-45d749ebbda3:9Z1CfSBEeif85med0hgE9pefPC8KI6vrrCanErdmMKiajaMKKzfOd57TBQKF4E9I'}, \n",
    "          'ibm_cos': {'region'   : 'eu-de',\n",
    "                    'access_key' : '5286a241e5de460a96de29466c635424',\n",
    "                    'secret_key' : '1e4c0eaec93783aab1243240ffe8f0d90dbae5def4c9aeae'},\n",
    "          'lithops' : {'storage_bucket' : 'sd-task2'}}"
   ]
  },
  {
   "cell_type": "code",
   "execution_count": 4,
   "id": "6b4a9795",
   "metadata": {},
   "outputs": [
    {
     "name": "stderr",
     "output_type": "stream",
     "text": [
      "2021-06-18 16:24:23,294 [INFO] lithops.config -- Lithops v2.3.4\n",
      "2021-06-18 16:24:23,447 [INFO] lithops.storage.backends.ibm_cos.ibm_cos -- IBM COS Storage client created - Region: eu-de\n",
      "2021-06-18 16:24:23,448 [INFO] lithops.serverless.backends.ibm_cf.ibm_cf -- IBM CF client created - Region: eu-gb - Namespace: ubenabdelkrim2@gmail.com_dev\n",
      "2021-06-18 16:24:23,449 [INFO] lithops.executors -- Serverless Executor created with ID: da0456-0\n"
     ]
    }
   ],
   "source": [
    "fexec = lithops.FunctionExecutor(config=config)\n"
   ]
  },
  {
   "cell_type": "code",
   "execution_count": 5,
   "id": "30134bf5",
   "metadata": {},
   "outputs": [
    {
     "name": "stderr",
     "output_type": "stream",
     "text": [
      "2021-06-18 16:24:23,490 [INFO] lithops.storage.backends.ibm_cos.ibm_cos -- IBM COS Storage client created - Region: eu-de\n"
     ]
    }
   ],
   "source": [
    "storage=Storage()\n"
   ]
  },
  {
   "cell_type": "code",
   "execution_count": 6,
   "id": "6378ed82",
   "metadata": {},
   "outputs": [
    {
     "name": "stdout",
     "output_type": "stream",
     "text": [
      "['\"neutral,neutral,711135120007294976,2016-03-19 10:19:59,None,None,Sorteo Samsung Galaxy S7 https://t.co/nJ0kepNQHc\\r\"\\r', '']\n"
     ]
    }
   ],
   "source": [
    "dades = storage.get_object('sd-task2','dades.csv')\n",
    "x=dades.decode(\"utf-8\")\n",
    "\n",
    "\n",
    "missatges = []\n",
    "dades=x.split('\\n')\n",
    "for dada in dades:\n",
    "    missatges.append(dada.split(' '))\n",
    "    \n",
    "print(dades)"
   ]
  },
  {
   "cell_type": "code",
   "execution_count": 7,
   "id": "759178f5",
   "metadata": {},
   "outputs": [],
   "source": [
    "def cleaner(field):\n",
    "    field = re.sub(\"@[A-Za-z0-9]+\",\"\",field) #Remove @ sign\n",
    "    field = re.sub(r\"(?:\\@|http?\\://|https?\\://|www)\\S+\", \"\", field) #Remove http links\n",
    "    field = field.replace(\"#\", \"\").replace(\"_\", \" \") #Remove hashtag sign but keep the text\n",
    "    field = re.sub(r'\\d+', '', field)\n",
    "    field = field.translate(str.maketrans('', '', string.punctuation))\n",
    "    field = field.strip()\n",
    "    field = field.lower()\n",
    "    return field"
   ]
  },
  {
   "cell_type": "code",
   "execution_count": 8,
   "id": "fe2b83a5",
   "metadata": {},
   "outputs": [],
   "source": [
    "\n",
    "def countFrequency(my_list, freq):\n",
    " \n",
    "    # Creating an empty dictionary\n",
    "    for item in my_list:\n",
    "        if (item in freq.keys()):\n",
    "            freq[item] += 1\n",
    "    return freq\n",
    "            \n",
    "def political_analysis(texts):\n",
    "    ###clarification: all keywords have been selected based on the frequency of their use, rather than personal opinions\n",
    "    democrats_words = [\"family\", \"care\", \"cut\", \"support\", \"thank\", \"new\", \"student\", \"need\", \"help\", \"equal pay\", \"fair\", \n",
    "        \"bin laden\", \"wall street\", \"worker\", \"veteran\", \"fight\", \"invest\", \"education\", \"military\", \"war\", \"medicare\", \"science\", \n",
    "        \"forward\", \"women\", \"seniors\", \"biden\"]\n",
    "    republicans_words = [\"good\", \"security\", \"great\", \"unite\", \"senate\", \"thank\", \"good\", \"meet\", \"hear\", \"join\", \"government\", \n",
    "        \"flag\", \"church\", \"unemployment\", \"regulation\", \"obamacare\", \"fail\", \"better\", \"faith\", \"business\", \"small business\", \"romney\", \n",
    "        \"leadership\", \"god\", \"debt\", \"spending\", \"success\"]\n",
    "    democrat_dict = {}\n",
    "    republican_dict = {}\n",
    "    democrat_freq = 0\n",
    "    republican_freq = 0\n",
    "\n",
    "    for word in democrats_words:\n",
    "        democrat_dict[word]=0\n",
    "    for word in republicans_words:\n",
    "        republican_dict[word]=0\n",
    "    for text in texts:\n",
    "        democrat_dict = countFrequency(text.split(\" \"), democrat_dict)\n",
    "        republican_dict = countFrequency(text.split(\" \"), republican_dict)\n",
    "    for word in democrat_dict:\n",
    "        democrat_freq+=democrat_dict[word]\n",
    "    for word in republican_dict:\n",
    "        republican_freq+=republican_dict[word]\n",
    "    \n",
    "    if(democrat_freq>republican_freq):\n",
    "        return \"democrat\"\n",
    "    else:\n",
    "        if(democrat_freq<republican_freq):\n",
    "            return \"republican\"\n",
    "   \n",
    "        else:\n",
    "            return \"neutral\""
   ]
  },
  {
   "cell_type": "code",
   "execution_count": 9,
   "id": "18b406e9",
   "metadata": {},
   "outputs": [
    {
     "name": "stdout",
     "output_type": "stream",
     "text": [
      "neutral\n"
     ]
    }
   ],
   "source": [
    "print(political_analysis(dades))"
   ]
  },
  {
   "cell_type": "code",
   "execution_count": 10,
   "id": "3e7a251c",
   "metadata": {
    "tags": []
   },
   "outputs": [],
   "source": [
    "def religion_analysis(texts):\n",
    "    islam_words = [\"allah\", \"fatwa\", \"hadj\", \"hajj\",\"hijjah\", \"islam\", \"mecca\", \"muhammad\", \"mosque\", \"muslim\", \n",
    "        \"prophet\", \"ramadan\", \"salam\", \"salaam\", \"sharia\", \"suhoor\", \"sunna\", \"sunnah\", \"sunni\", \"koran\", \"coran\", \n",
    "        \"qur'an\", \"hijab\", \"halal\", \"hadith\", \"imam\", \"madrassah\", \"salat\", \"sawm\", \"shahada\", \"sura\", \"tafsir\",\n",
    "        \"zakat\", \"kaaba\", \"eid al fitr\",\"khutbah\", \"eid al adha\", \"p.b.u.h\"]\n",
    "    catholic_words = [\"apostle\", \"assembly\", \"bible\", \"blessed sacrament\", \"celebrant\", \"discernment\", \"disciple\", \n",
    "        \"easter\", \"gospel\", \"eucharist\", \"grace\", \"communion\", \"holy water\", \"jesus\", \"christ\", \"new testament\", \"old testament\",\n",
    "        \"sacrament\", \"catholic\", \"christmas\", \"christian\", \"confession\", \"convent\", \"godparent\", \"immaculate\", \"pentateuch\", \"saint\",\n",
    "        \"protestant\", \"church\", \"ecclesiastic\", \"episcopal\"]\n",
    "    jewish_words = [\"torah\", \"shalom\", \"kosher\", \"chutzpah\", \"kippah\", \"mazel tov\", \"adar\", \"achashverosh\", \"bimah\",\n",
    "        \"daven\", \"gelilah\", \"hakafot\", \"halachah\", \"iyar\", \"kiddish\", \"nisan\", \"nine day\", \"shmot\", \"shul\", \"simchat\",\n",
    "        \"vayikra\", \"yizkor\", \"zichrono livracha\", \"yerushalayim\", \"yisrael\"]\n",
    "    budism_words = [\"ajahn chah\", \"advaita vedanta\", \"ayya khema\", \"bhikkhu payutto\", \"buddha\", \"buddhism\", \"buddhist\",\n",
    "        \"chan\", \"chi kung\", \"dana\", \"dharma\", \"dhamma\", \"gelugpa\", \"jhana\", \"koan\", \"mahasi\", \"mahayana\", \"nibbana\", \n",
    "        \"nirvana\", \"pali\", \"sanskrit\", \"zen\"]\n",
    "\n",
    "    islam_dict = {}\n",
    "    catholic_dict = {}\n",
    "    jewish_dict = {}\n",
    "    budism_dict = {}\n",
    "\n",
    "    results={}\n",
    "    results[\"catholic\"]=0\n",
    "    results[\"islam\"]=0\n",
    "    results[\"jewish\"]=0\n",
    "    results[\"budism\"]=0\n",
    "\n",
    "    for word in islam_words:\n",
    "        islam_dict[word]=0\n",
    "    for word in catholic_words:\n",
    "        catholic_dict[word]=0\n",
    "    for word in jewish_words:\n",
    "        jewish_dict[word]=0\n",
    "    for word in budism_words:\n",
    "        budism_dict[word]=0\n",
    "    \n",
    "        \n",
    "    for text in texts:\n",
    "        islam_dict = countFrequency(text.split(' '), islam_dict)\n",
    "        catholic_dict = countFrequency(text.split(' '), catholic_dict)\n",
    "        jewish_dict = countFrequency(text.split(' '), jewish_dict)\n",
    "        budism_dict = countFrequency(text.split(' '), budism_dict)\n",
    "    for word in islam_dict:\n",
    "        results[\"islam\"]+=islam_dict[word]\n",
    "    for word in catholic_dict:\n",
    "        results[\"catholic\"]+=catholic_dict[word]\n",
    "    for word in jewish_dict:\n",
    "        results[\"jewish\"]+=jewish_dict[word]\n",
    "    for word in budism_dict:\n",
    "        results[\"budism\"]+=budism_dict[word]\n",
    "    print(results)\n",
    "\n",
    "    max_value=max(results.items(), key=operator.itemgetter(1))[0]\n",
    "    if (results.get(max_value) > 0):\n",
    "        return max_value\n",
    "    else:\n",
    "        return \"neutral\""
   ]
  },
  {
   "cell_type": "code",
   "execution_count": 11,
   "id": "1c36b372",
   "metadata": {},
   "outputs": [
    {
     "name": "stdout",
     "output_type": "stream",
     "text": [
      "{'catholic': 0, 'islam': 0, 'jewish': 0, 'budism': 0}\n",
      "neutral\n"
     ]
    }
   ],
   "source": [
    "print(religion_analysis(dades))"
   ]
  },
  {
   "cell_type": "code",
   "execution_count": 14,
   "id": "301eb461",
   "metadata": {},
   "outputs": [],
   "source": [
    "def facebook_posts_crawler(facebook_token):\n",
    "    graph = facebook.GraphAPI(facebook_token)\n",
    "    field = ['posts']\n",
    "    profile = graph.get_object(id=\"me\",fields=field)\n",
    "    posts = []\n",
    "    for post in profile['posts']['data']:\n",
    "        if post.get('message'):\n",
    "            row = [\" \", \" \", str(post.get('id')), str(profile.get('created_time')), \"null\", \"null\", str(post.get('message').replace(',', \" \"))]\n",
    "            posts.append(row)\n",
    "    return posts"
   ]
  },
  {
   "cell_type": "code",
   "execution_count": null,
   "id": "37e5cd40",
   "metadata": {},
   "outputs": [],
   "source": []
  },
  {
   "cell_type": "code",
   "execution_count": 40,
   "id": "43f9f824-fe2d-44d9-a2d9-69029cf91791",
   "metadata": {},
   "outputs": [
    {
     "name": "stdout",
     "output_type": "stream",
     "text": [
      "[['', 'usama usama', 'usama benabdelkrim', '', 'cataluña españa', 'none', 'true', 'false', 'ingeniería informática%'], ['\\n', 'null', 'usama benabdelkrim', 'null', 'manresa', '', 'null', 'null', 'null'], ['\\nneutral', 'neutral', '', '', 'none', 'none', 'los  están sorteando un xiaomi mi participa desde aquí%'], ['\\nneutral', 'neutral', '', '', 'none', 'none', 'los  y  esp están sorteado un mi participa aquí%'], ['\\nneutral', 'neutral', '', '', 'none', 'none', 'increíble test de destrucción del samsung galaxy s edge  casi explota%'], ['\\nneutral', 'neutral', '', '', 'none', 'none', 'puedo llevarme un samsung galaxy s gratis participa aquí%'], ['\\nneutral', 'neutral', '', '', 'none', 'none', 'sorteo samsung galaxy s%'], ['\\nneutral', 'neutral', '', '', 'none', 'none', 'nexus p international giveaway%'], ['\\nneutral', 'neutral', '', '', 'none', 'none', 'galaxy s international giveaway%'], ['\\nneutral', 'neutral', '', '', 'none', 'none', 'participo en el sorteo honor  de  amp  mas info  ó  sorteohonor%'], ['\\nneutral', 'neutral', '', '', 'none', 'none', 'yo si participo en el sorteocellularline de  ¿y tu a que esperas%'], ['\\nneutral', 'neutral', '', '', 'none', 'none', 'operamax ayuda a ahorrar los datos mientras ve netflix gana un nexus p nexus player o sphero bb   maxnetflix%'], ['\\nneutral', 'neutral', '', '', 'none', 'none', 'directotfb%'], ['\\nneutral', 'neutral', '', '', 'none', 'none', 'estoy participando en el sorteoxperiaz de  para ganarlo gratis ¡deseadme suerte%'], ['\\nneutral', 'neutral', '', '', 'none', 'none', '¡voy a ganar el oneplus  que sortean en   oneplusandroall%'], ['\\nneutral', 'neutral', '', '', 'none', 'none', 'oneplusandroall%'], ['\\nneutral', 'neutral', '', '', 'none', 'none', 'participo en el sorteogalaxys de%'], ['\\nneutral', 'neutral', '', 'none', 'null', 'null', ''], ['\\nneutral', 'neutral', '', 'none', 'null', 'null', ''], ['\\nneutral', 'neutral', '', 'none', 'null', 'null', '🏂⛷️🏂⛷️🏂⛷️🏂⛷️'], ['\\nneutral', 'neutral', '', 'none', 'null', 'null', 'el rey'], ['\\nneutral', 'neutral', '', 'none', 'null', 'null', 'os dejo el cuestionario en castellano'], ['\\nneutral', 'neutral', '', 'none', 'null', 'null', 'os agradceria mucho que contestárais a una encuesta mía en un momentín para un trabajo de bachillerato tdr y compartirlo al máximo de gente posible porfavor se necesita el máximo de gente posible está en catalánlink de la encuesta'], ['\\nneutral', 'neutral', '', 'none', 'null', 'null', ''], ['\\nneutral', 'neutral', '', 'none', 'null', 'null', '']]\n"
     ]
    },
    {
     "ename": "ParamValidationError",
     "evalue": "Parameter validation failed:\nInvalid type for parameter Body, value: [['', 'usama usama', 'usama benabdelkrim', '', 'cataluña españa', 'none', 'true', 'false', 'ingeniería informática%'], ['\\n', 'null', 'usama benabdelkrim', 'null', 'manresa', '', 'null', 'null', 'null'], ['\\nneutral', 'neutral', '', '', 'none', 'none', 'los  están sorteando un xiaomi mi participa desde aquí%'], ['\\nneutral', 'neutral', '', '', 'none', 'none', 'los  y  esp están sorteado un mi participa aquí%'], ['\\nneutral', 'neutral', '', '', 'none', 'none', 'increíble test de destrucción del samsung galaxy s edge  casi explota%'], ['\\nneutral', 'neutral', '', '', 'none', 'none', 'puedo llevarme un samsung galaxy s gratis participa aquí%'], ['\\nneutral', 'neutral', '', '', 'none', 'none', 'sorteo samsung galaxy s%'], ['\\nneutral', 'neutral', '', '', 'none', 'none', 'nexus p international giveaway%'], ['\\nneutral', 'neutral', '', '', 'none', 'none', 'galaxy s international giveaway%'], ['\\nneutral', 'neutral', '', '', 'none', 'none', 'participo en el sorteo honor  de  amp  mas info  ó  sorteohonor%'], ['\\nneutral', 'neutral', '', '', 'none', 'none', 'yo si participo en el sorteocellularline de  ¿y tu a que esperas%'], ['\\nneutral', 'neutral', '', '', 'none', 'none', 'operamax ayuda a ahorrar los datos mientras ve netflix gana un nexus p nexus player o sphero bb   maxnetflix%'], ['\\nneutral', 'neutral', '', '', 'none', 'none', 'directotfb%'], ['\\nneutral', 'neutral', '', '', 'none', 'none', 'estoy participando en el sorteoxperiaz de  para ganarlo gratis ¡deseadme suerte%'], ['\\nneutral', 'neutral', '', '', 'none', 'none', '¡voy a ganar el oneplus  que sortean en   oneplusandroall%'], ['\\nneutral', 'neutral', '', '', 'none', 'none', 'oneplusandroall%'], ['\\nneutral', 'neutral', '', '', 'none', 'none', 'participo en el sorteogalaxys de%'], ['\\nneutral', 'neutral', '', 'none', 'null', 'null', ''], ['\\nneutral', 'neutral', '', 'none', 'null', 'null', ''], ['\\nneutral', 'neutral', '', 'none', 'null', 'null', '🏂⛷️🏂⛷️🏂⛷️🏂⛷️'], ['\\nneutral', 'neutral', '', 'none', 'null', 'null', 'el rey'], ['\\nneutral', 'neutral', '', 'none', 'null', 'null', 'os dejo el cuestionario en castellano'], ['\\nneutral', 'neutral', '', 'none', 'null', 'null', 'os agradceria mucho que contestárais a una encuesta mía en un momentín para un trabajo de bachillerato tdr y compartirlo al máximo de gente posible porfavor se necesita el máximo de gente posible está en catalánlink de la encuesta'], ['\\nneutral', 'neutral', '', 'none', 'null', 'null', ''], ['\\nneutral', 'neutral', '', 'none', 'null', 'null', '']], type: <class 'list'>, valid types: <class 'bytes'>, <class 'bytearray'>, file-like object",
     "output_type": "error",
     "traceback": [
      "\u001b[1;31m---------------------------------------------------------------------------\u001b[0m",
      "\u001b[1;31mParamValidationError\u001b[0m                      Traceback (most recent call last)",
      "\u001b[1;32m<ipython-input-40-b825dbe9cf78>\u001b[0m in \u001b[0;36m<module>\u001b[1;34m\u001b[0m\n\u001b[0;32m     27\u001b[0m \u001b[1;33m\u001b[0m\u001b[0m\n\u001b[0;32m     28\u001b[0m \u001b[0mprint\u001b[0m\u001b[1;33m(\u001b[0m\u001b[0mtweets\u001b[0m\u001b[1;33m)\u001b[0m\u001b[1;33m\u001b[0m\u001b[1;33m\u001b[0m\u001b[0m\n\u001b[1;32m---> 29\u001b[1;33m \u001b[0mstorage\u001b[0m\u001b[1;33m.\u001b[0m\u001b[0mput_cloudobject\u001b[0m\u001b[1;33m(\u001b[0m\u001b[0mtweets\u001b[0m\u001b[1;33m,\u001b[0m\u001b[1;34m'sd-task2'\u001b[0m\u001b[1;33m,\u001b[0m \u001b[1;34m'dades.csv'\u001b[0m\u001b[1;33m)\u001b[0m\u001b[1;33m\u001b[0m\u001b[1;33m\u001b[0m\u001b[0m\n\u001b[0m",
      "\u001b[1;32mc:\\users\\piedr\\appdata\\local\\programs\\python\\python39\\lib\\site-packages\\lithops\\storage\\storage.py\u001b[0m in \u001b[0;36mput_cloudobject\u001b[1;34m(self, body, bucket, key)\u001b[0m\n\u001b[0;32m    120\u001b[0m         \u001b[0mkey\u001b[0m \u001b[1;33m=\u001b[0m \u001b[0mkey\u001b[0m \u001b[1;32mor\u001b[0m \u001b[1;34m'/'\u001b[0m\u001b[1;33m.\u001b[0m\u001b[0mjoin\u001b[0m\u001b[1;33m(\u001b[0m\u001b[1;33m[\u001b[0m\u001b[0mTEMP_PREFIX\u001b[0m\u001b[1;33m,\u001b[0m \u001b[0mname\u001b[0m\u001b[1;33m]\u001b[0m\u001b[1;33m)\u001b[0m\u001b[1;33m\u001b[0m\u001b[1;33m\u001b[0m\u001b[0m\n\u001b[0;32m    121\u001b[0m         \u001b[0mbucket\u001b[0m \u001b[1;33m=\u001b[0m \u001b[0mbucket\u001b[0m \u001b[1;32mor\u001b[0m \u001b[0mself\u001b[0m\u001b[1;33m.\u001b[0m\u001b[0mbucket\u001b[0m\u001b[1;33m\u001b[0m\u001b[1;33m\u001b[0m\u001b[0m\n\u001b[1;32m--> 122\u001b[1;33m         \u001b[0mself\u001b[0m\u001b[1;33m.\u001b[0m\u001b[0mstorage_handler\u001b[0m\u001b[1;33m.\u001b[0m\u001b[0mput_object\u001b[0m\u001b[1;33m(\u001b[0m\u001b[0mbucket\u001b[0m\u001b[1;33m,\u001b[0m \u001b[0mkey\u001b[0m\u001b[1;33m,\u001b[0m \u001b[0mbody\u001b[0m\u001b[1;33m)\u001b[0m\u001b[1;33m\u001b[0m\u001b[1;33m\u001b[0m\u001b[0m\n\u001b[0m\u001b[0;32m    123\u001b[0m \u001b[1;33m\u001b[0m\u001b[0m\n\u001b[0;32m    124\u001b[0m         \u001b[1;32mreturn\u001b[0m \u001b[0mCloudObject\u001b[0m\u001b[1;33m(\u001b[0m\u001b[0mself\u001b[0m\u001b[1;33m.\u001b[0m\u001b[0mbackend\u001b[0m\u001b[1;33m,\u001b[0m \u001b[0mbucket\u001b[0m\u001b[1;33m,\u001b[0m \u001b[0mkey\u001b[0m\u001b[1;33m)\u001b[0m\u001b[1;33m\u001b[0m\u001b[1;33m\u001b[0m\u001b[0m\n",
      "\u001b[1;32mc:\\users\\piedr\\appdata\\local\\programs\\python\\python39\\lib\\site-packages\\lithops\\storage\\backends\\ibm_cos\\ibm_cos.py\u001b[0m in \u001b[0;36mput_object\u001b[1;34m(self, bucket_name, key, data)\u001b[0m\n\u001b[0;32m    116\u001b[0m         \u001b[1;32mwhile\u001b[0m \u001b[0mstatus\u001b[0m \u001b[1;32mis\u001b[0m \u001b[1;32mNone\u001b[0m\u001b[1;33m:\u001b[0m\u001b[1;33m\u001b[0m\u001b[1;33m\u001b[0m\u001b[0m\n\u001b[0;32m    117\u001b[0m             \u001b[1;32mtry\u001b[0m\u001b[1;33m:\u001b[0m\u001b[1;33m\u001b[0m\u001b[1;33m\u001b[0m\u001b[0m\n\u001b[1;32m--> 118\u001b[1;33m                 \u001b[0mres\u001b[0m \u001b[1;33m=\u001b[0m \u001b[0mself\u001b[0m\u001b[1;33m.\u001b[0m\u001b[0mcos_client\u001b[0m\u001b[1;33m.\u001b[0m\u001b[0mput_object\u001b[0m\u001b[1;33m(\u001b[0m\u001b[0mBucket\u001b[0m\u001b[1;33m=\u001b[0m\u001b[0mbucket_name\u001b[0m\u001b[1;33m,\u001b[0m \u001b[0mKey\u001b[0m\u001b[1;33m=\u001b[0m\u001b[0mkey\u001b[0m\u001b[1;33m,\u001b[0m \u001b[0mBody\u001b[0m\u001b[1;33m=\u001b[0m\u001b[0mdata\u001b[0m\u001b[1;33m)\u001b[0m\u001b[1;33m\u001b[0m\u001b[1;33m\u001b[0m\u001b[0m\n\u001b[0m\u001b[0;32m    119\u001b[0m                 \u001b[0mstatus\u001b[0m \u001b[1;33m=\u001b[0m \u001b[1;34m'OK'\u001b[0m \u001b[1;32mif\u001b[0m \u001b[0mres\u001b[0m\u001b[1;33m[\u001b[0m\u001b[1;34m'ResponseMetadata'\u001b[0m\u001b[1;33m]\u001b[0m\u001b[1;33m[\u001b[0m\u001b[1;34m'HTTPStatusCode'\u001b[0m\u001b[1;33m]\u001b[0m \u001b[1;33m==\u001b[0m \u001b[1;36m200\u001b[0m \u001b[1;32melse\u001b[0m \u001b[1;34m'Error'\u001b[0m\u001b[1;33m\u001b[0m\u001b[1;33m\u001b[0m\u001b[0m\n\u001b[0;32m    120\u001b[0m                 \u001b[1;32mtry\u001b[0m\u001b[1;33m:\u001b[0m\u001b[1;33m\u001b[0m\u001b[1;33m\u001b[0m\u001b[0m\n",
      "\u001b[1;32mc:\\users\\piedr\\appdata\\local\\programs\\python\\python39\\lib\\site-packages\\ibm_botocore\\client.py\u001b[0m in \u001b[0;36m_api_call\u001b[1;34m(self, *args, **kwargs)\u001b[0m\n\u001b[0;32m    355\u001b[0m                     \"%s() only accepts keyword arguments.\" % py_operation_name)\n\u001b[0;32m    356\u001b[0m             \u001b[1;31m# The \"self\" in this scope is referring to the BaseClient.\u001b[0m\u001b[1;33m\u001b[0m\u001b[1;33m\u001b[0m\u001b[1;33m\u001b[0m\u001b[0m\n\u001b[1;32m--> 357\u001b[1;33m             \u001b[1;32mreturn\u001b[0m \u001b[0mself\u001b[0m\u001b[1;33m.\u001b[0m\u001b[0m_make_api_call\u001b[0m\u001b[1;33m(\u001b[0m\u001b[0moperation_name\u001b[0m\u001b[1;33m,\u001b[0m \u001b[0mkwargs\u001b[0m\u001b[1;33m)\u001b[0m\u001b[1;33m\u001b[0m\u001b[1;33m\u001b[0m\u001b[0m\n\u001b[0m\u001b[0;32m    358\u001b[0m \u001b[1;33m\u001b[0m\u001b[0m\n\u001b[0;32m    359\u001b[0m         \u001b[0m_api_call\u001b[0m\u001b[1;33m.\u001b[0m\u001b[0m__name__\u001b[0m \u001b[1;33m=\u001b[0m \u001b[0mstr\u001b[0m\u001b[1;33m(\u001b[0m\u001b[0mpy_operation_name\u001b[0m\u001b[1;33m)\u001b[0m\u001b[1;33m\u001b[0m\u001b[1;33m\u001b[0m\u001b[0m\n",
      "\u001b[1;32mc:\\users\\piedr\\appdata\\local\\programs\\python\\python39\\lib\\site-packages\\ibm_botocore\\client.py\u001b[0m in \u001b[0;36m_make_api_call\u001b[1;34m(self, operation_name, api_params)\u001b[0m\n\u001b[0;32m    646\u001b[0m             \u001b[1;34m'auth_type'\u001b[0m\u001b[1;33m:\u001b[0m \u001b[0moperation_model\u001b[0m\u001b[1;33m.\u001b[0m\u001b[0mauth_type\u001b[0m\u001b[1;33m,\u001b[0m\u001b[1;33m\u001b[0m\u001b[1;33m\u001b[0m\u001b[0m\n\u001b[0;32m    647\u001b[0m         }\n\u001b[1;32m--> 648\u001b[1;33m         request_dict = self._convert_to_request_dict(\n\u001b[0m\u001b[0;32m    649\u001b[0m             api_params, operation_model, context=request_context)\n\u001b[0;32m    650\u001b[0m \u001b[1;33m\u001b[0m\u001b[0m\n",
      "\u001b[1;32mc:\\users\\piedr\\appdata\\local\\programs\\python\\python39\\lib\\site-packages\\ibm_botocore\\client.py\u001b[0m in \u001b[0;36m_convert_to_request_dict\u001b[1;34m(self, api_params, operation_model, context)\u001b[0m\n\u001b[0;32m    694\u001b[0m         api_params = self._emit_api_params(\n\u001b[0;32m    695\u001b[0m             api_params, operation_model, context)\n\u001b[1;32m--> 696\u001b[1;33m         request_dict = self._serializer.serialize_to_request(\n\u001b[0m\u001b[0;32m    697\u001b[0m             api_params, operation_model)\n\u001b[0;32m    698\u001b[0m         \u001b[1;32mif\u001b[0m \u001b[1;32mnot\u001b[0m \u001b[0mself\u001b[0m\u001b[1;33m.\u001b[0m\u001b[0m_client_config\u001b[0m\u001b[1;33m.\u001b[0m\u001b[0minject_host_prefix\u001b[0m\u001b[1;33m:\u001b[0m\u001b[1;33m\u001b[0m\u001b[1;33m\u001b[0m\u001b[0m\n",
      "\u001b[1;32mc:\\users\\piedr\\appdata\\local\\programs\\python\\python39\\lib\\site-packages\\ibm_botocore\\validate.py\u001b[0m in \u001b[0;36mserialize_to_request\u001b[1;34m(self, parameters, operation_model)\u001b[0m\n\u001b[0;32m    295\u001b[0m                                                     operation_model.input_shape)\n\u001b[0;32m    296\u001b[0m             \u001b[1;32mif\u001b[0m \u001b[0mreport\u001b[0m\u001b[1;33m.\u001b[0m\u001b[0mhas_errors\u001b[0m\u001b[1;33m(\u001b[0m\u001b[1;33m)\u001b[0m\u001b[1;33m:\u001b[0m\u001b[1;33m\u001b[0m\u001b[1;33m\u001b[0m\u001b[0m\n\u001b[1;32m--> 297\u001b[1;33m                 \u001b[1;32mraise\u001b[0m \u001b[0mParamValidationError\u001b[0m\u001b[1;33m(\u001b[0m\u001b[0mreport\u001b[0m\u001b[1;33m=\u001b[0m\u001b[0mreport\u001b[0m\u001b[1;33m.\u001b[0m\u001b[0mgenerate_report\u001b[0m\u001b[1;33m(\u001b[0m\u001b[1;33m)\u001b[0m\u001b[1;33m)\u001b[0m\u001b[1;33m\u001b[0m\u001b[1;33m\u001b[0m\u001b[0m\n\u001b[0m\u001b[0;32m    298\u001b[0m         return self._serializer.serialize_to_request(parameters,\n\u001b[0;32m    299\u001b[0m                                                      operation_model)\n",
      "\u001b[1;31mParamValidationError\u001b[0m: Parameter validation failed:\nInvalid type for parameter Body, value: [['', 'usama usama', 'usama benabdelkrim', '', 'cataluña españa', 'none', 'true', 'false', 'ingeniería informática%'], ['\\n', 'null', 'usama benabdelkrim', 'null', 'manresa', '', 'null', 'null', 'null'], ['\\nneutral', 'neutral', '', '', 'none', 'none', 'los  están sorteando un xiaomi mi participa desde aquí%'], ['\\nneutral', 'neutral', '', '', 'none', 'none', 'los  y  esp están sorteado un mi participa aquí%'], ['\\nneutral', 'neutral', '', '', 'none', 'none', 'increíble test de destrucción del samsung galaxy s edge  casi explota%'], ['\\nneutral', 'neutral', '', '', 'none', 'none', 'puedo llevarme un samsung galaxy s gratis participa aquí%'], ['\\nneutral', 'neutral', '', '', 'none', 'none', 'sorteo samsung galaxy s%'], ['\\nneutral', 'neutral', '', '', 'none', 'none', 'nexus p international giveaway%'], ['\\nneutral', 'neutral', '', '', 'none', 'none', 'galaxy s international giveaway%'], ['\\nneutral', 'neutral', '', '', 'none', 'none', 'participo en el sorteo honor  de  amp  mas info  ó  sorteohonor%'], ['\\nneutral', 'neutral', '', '', 'none', 'none', 'yo si participo en el sorteocellularline de  ¿y tu a que esperas%'], ['\\nneutral', 'neutral', '', '', 'none', 'none', 'operamax ayuda a ahorrar los datos mientras ve netflix gana un nexus p nexus player o sphero bb   maxnetflix%'], ['\\nneutral', 'neutral', '', '', 'none', 'none', 'directotfb%'], ['\\nneutral', 'neutral', '', '', 'none', 'none', 'estoy participando en el sorteoxperiaz de  para ganarlo gratis ¡deseadme suerte%'], ['\\nneutral', 'neutral', '', '', 'none', 'none', '¡voy a ganar el oneplus  que sortean en   oneplusandroall%'], ['\\nneutral', 'neutral', '', '', 'none', 'none', 'oneplusandroall%'], ['\\nneutral', 'neutral', '', '', 'none', 'none', 'participo en el sorteogalaxys de%'], ['\\nneutral', 'neutral', '', 'none', 'null', 'null', ''], ['\\nneutral', 'neutral', '', 'none', 'null', 'null', ''], ['\\nneutral', 'neutral', '', 'none', 'null', 'null', '🏂⛷️🏂⛷️🏂⛷️🏂⛷️'], ['\\nneutral', 'neutral', '', 'none', 'null', 'null', 'el rey'], ['\\nneutral', 'neutral', '', 'none', 'null', 'null', 'os dejo el cuestionario en castellano'], ['\\nneutral', 'neutral', '', 'none', 'null', 'null', 'os agradceria mucho que contestárais a una encuesta mía en un momentín para un trabajo de bachillerato tdr y compartirlo al máximo de gente posible porfavor se necesita el máximo de gente posible está en catalánlink de la encuesta'], ['\\nneutral', 'neutral', '', 'none', 'null', 'null', ''], ['\\nneutral', 'neutral', '', 'none', 'null', 'null', '']], type: <class 'list'>, valid types: <class 'bytes'>, <class 'bytearray'>, file-like object"
     ]
    }
   ],
   "source": [
    "def write_csv_posts(posts):\n",
    "    output = io.StringIO()\n",
    "    w = csv.writer(output)\n",
    "    for post in posts:\n",
    "        k = i.split(\",\")\n",
    "        if(len(k)>5):\n",
    "           w.writerow(k)\n",
    "    return output.getvalue()\n",
    "\n",
    "dades = storage.get_object('sd-task2','merg.csv').decode(\"utf-8\")\n",
    "output = io.StringIO()\n",
    "w = csv.writer(output)\n",
    "\n",
    "\n",
    "\n",
    "\n",
    "tweets = write_csv_posts(dades.split(\"\\r\"))\n",
    "\n",
    "\n",
    "\n",
    "print(tweets)\n",
    "storage.put_cloudobject(tweets,'sd-task2', 'dades.csv')"
   ]
  },
  {
   "cell_type": "code",
   "execution_count": null,
   "id": "dc97c027-467e-42d7-a720-5a6ee6cfc2aa",
   "metadata": {},
   "outputs": [],
   "source": []
  },
  {
   "cell_type": "code",
   "execution_count": null,
   "id": "af03b6a7-43a2-4125-956a-b91f7cc59669",
   "metadata": {},
   "outputs": [],
   "source": []
  },
  {
   "cell_type": "code",
   "execution_count": null,
   "id": "01cc8c28-0ca6-46f6-866d-dbb30bb5d8ba",
   "metadata": {},
   "outputs": [],
   "source": []
  }
 ],
 "metadata": {
  "interpreter": {
   "hash": "e9a30a128f8404108a6d4afc9deb930e4e0038c0f27c9ff0cba4deb8e9e47a99"
  },
  "kernelspec": {
   "display_name": "Python 3",
   "language": "python",
   "name": "python3"
  },
  "language_info": {
   "codemirror_mode": {
    "name": "ipython",
    "version": 3
   },
   "file_extension": ".py",
   "mimetype": "text/x-python",
   "name": "python",
   "nbconvert_exporter": "python",
   "pygments_lexer": "ipython3",
   "version": "3.9.2"
  }
 },
 "nbformat": 4,
 "nbformat_minor": 5
}
