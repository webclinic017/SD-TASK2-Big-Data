{
 "cells": [
  {
   "cell_type": "code",
   "execution_count": 216,
   "id": "005657c5",
   "metadata": {
    "scrolled": true
   },
   "outputs": [],
   "source": [
    "import emoji\n",
    "import numpy as np\n",
    "import os\n",
    "import lithops\n",
    "from lithops.storage import Storage\n",
    "import numpy as np\n",
    "import pandas as pd\n",
    "import io\n",
    "import csv\n",
    "import re\n",
    "import nltk\n"
   ]
  },
  {
   "cell_type": "code",
   "execution_count": 15,
   "id": "0a861033",
   "metadata": {},
   "outputs": [],
   "source": [
    "\n",
    "import sys\n",
    "try:\n",
    "    import lithops\n",
    "except:\n",
    "    !{sys.executable} -m pip install lithops\n",
    "    import lithops"
   ]
  },
  {
   "cell_type": "code",
   "execution_count": 20,
   "id": "a70c0bcc",
   "metadata": {
    "scrolled": true
   },
   "outputs": [],
   "source": [
    "config = {'ibm_cf':  {'endpoint' : 'https://eu-gb.functions.cloud.ibm.com',\n",
    "                      'namespace'   : 'ubenabdelkrim2@gmail.com_dev',\n",
    "                      'api_key'     : '7c45d3db-a61f-4ca6-afdd-45d749ebbda3:9Z1CfSBEeif85med0hgE9pefPC8KI6vrrCanErdmMKiajaMKKzfOd57TBQKF4E9I'}, \n",
    "          'ibm_cos': {'region'   : 'eu-de',\n",
    "                    'access_key' : '5286a241e5de460a96de29466c635424',\n",
    "                    'secret_key' : '1e4c0eaec93783aab1243240ffe8f0d90dbae5def4c9aeae'},\n",
    "          'lithops' : {'storage_bucket' : 'sd-task2'}}"
   ]
  },
  {
   "cell_type": "code",
   "execution_count": 21,
   "id": "6b4a9795",
   "metadata": {},
   "outputs": [
    {
     "name": "stderr",
     "output_type": "stream",
     "text": [
      "2021-06-17 21:22:24,604 [INFO] lithops.config -- Lithops v2.3.4\n",
      "2021-06-17 21:22:25,248 [INFO] lithops.storage.backends.ibm_cos.ibm_cos -- IBM COS Storage client created - Region: eu-de\n",
      "2021-06-17 21:22:25,249 [INFO] lithops.serverless.backends.ibm_cf.ibm_cf -- IBM CF client created - Region: eu-gb - Namespace: ubenabdelkrim2@gmail.com_dev\n",
      "2021-06-17 21:22:25,250 [INFO] lithops.executors -- Serverless Executor created with ID: cdce9b-0\n"
     ]
    }
   ],
   "source": [
    "fexec = lithops.FunctionExecutor(config=config)\n"
   ]
  },
  {
   "cell_type": "code",
   "execution_count": 284,
   "id": "30134bf5",
   "metadata": {},
   "outputs": [
    {
     "name": "stderr",
     "output_type": "stream",
     "text": [
      "2021-06-18 05:54:33,802 [INFO] lithops.storage.backends.ibm_cos.ibm_cos -- IBM COS Storage client created - Region: eu-de\n"
     ]
    }
   ],
   "source": [
    "storage=Storage()\n"
   ]
  },
  {
   "cell_type": "code",
   "execution_count": 292,
   "id": "6378ed82",
   "metadata": {
    "scrolled": false
   },
   "outputs": [
    {
     "name": "stdout",
     "output_type": "stream",
     "text": [
      "['True\\r', ' 83\\r', ' 48\\r', ' 69\\r', ' 70\\r', ' 135\\r', ' 102\\r', \" 'truncated': False\\r\", ' 24\\r', ' 120\\r', ' 94\\r', ' 18\\r', ' 50\\r', '']\n"
     ]
    }
   ],
   "source": [
    "dades = storage.get_object('sd-task2','dades.csv')\n",
    "x=dades.decode(\"utf-8\")\n",
    "\n",
    "\n",
    "missatges = []\n",
    "dades=x.split('\\n')\n",
    "for dada in dades:\n",
    "    missatges.append(dada.split(' '))\n",
    "    \n",
    "print(dades)"
   ]
  },
  {
   "cell_type": "code",
   "execution_count": 291,
   "id": "9be4a31f",
   "metadata": {},
   "outputs": [
    {
     "name": "stdout",
     "output_type": "stream",
     "text": [
      "  83 48 69 70 135 102  truncated : False 24 120 94 18 50\n"
     ]
    }
   ],
   "source": [
    "def cleaner(tweet):\n",
    "    tweet = re.sub(\"@[A-Za-z0-9]+\",\"\",tweet) #Remove @ sign\n",
    "    tweet = re.sub(r\"(?:\\@|http?\\://|https?\\://|www)\\S+\", \"\", tweet) #Remove http links\n",
    "    tweet = \" \".join(tweet.split())\n",
    "    tweet = tweet.replace(\"#\", \"\").replace(\"_\", \" \") #Remove hashtag sign but keep the text\n",
    "    tweet = tweet.replace(\"'\", \" \").replace(\"_\", \" \")\n",
    "    tweet = tweet.replace(\"True\", \" \").replace(\"_\", \" \")\n",
    "    tweet = tweet.replace(\"&,?\", \" \").replace(\"_\", \" \")\n",
    "    tweet = tweet.replace(\"\\\"\", \" \").replace(\"_\", \" \")\n",
    "    return tweet\n",
    "\n",
    "x=cleaner(x)\n",
    "print(x)\n"
   ]
  },
  {
   "cell_type": "code",
   "execution_count": 287,
   "id": "ab8ce214",
   "metadata": {},
   "outputs": [],
   "source": [
    "\n",
    "def countFrequency(my_list, freq):\n",
    " \n",
    "    # Creating an empty dictionary\n",
    "    for item in my_list:\n",
    "        if (item in freq):\n",
    "            freq[item] += 1\n",
    "        else:\n",
    "            freq[item] = 1\n",
    "    return freq\n",
    "            \n",
    "def political_analysis(texts):\n",
    "    ###clarification: all keywords have been selected based on the frequency of their use, rather than personal opinions\n",
    "    democrats_words = [\"family\", \"care\", \"cut\", \"support\", \"thank\", \"new\", \"student\", \"need\", \"help\", \"equal pay\", \"fair\", \n",
    "        \"bin laden\", \"wall street\", \"worker\", \"veteran\", \"fight\", \"invest\", \"education\", \"military\", \"war\", \"medicare\", \"science\", \n",
    "        \"forward\", \"women\", \"seniors\", \"biden\"]\n",
    "    republicans_words = [\"good\", \"security\", \"great\", \"unite\", \"senate\", \"thank\", \"good\", \"meet\", \"hear\", \"join\", \"government\", \n",
    "        \"flag\", \"church\", \"unemployment\", \"regulation\", \"obamacare\", \"fail\", \"better\", \"faith\", \"business\", \"small business\", \"romney\", \n",
    "        \"leadership\", \"god\", \"debt\", \"spending\", \"success\"]\n",
    "    democrat_dict = {}\n",
    "    republican_dict = {}\n",
    "    democrat_freq = 0\n",
    "    republican_freq = 0\n",
    "\n",
    "    for word in democrats_words:\n",
    "        democrat_dict[word]=0\n",
    "    for word in republicans_words:\n",
    "        republican_dict[word]=0\n",
    "    for text in texts:\n",
    "        democrat_dict = countFrequency(text.split(\" \"), democrat_dict)\n",
    "        republican_dict = countFrequency(text.split(\" \"), republican_dict)\n",
    "    for word in democrat_dict.keys():\n",
    "        democrat_freq+=democrat_dict[word]\n",
    "    for word in republican_dict.keys():\n",
    "        republican_freq+=republican_dict[word]\n",
    "    \n",
    "    print(str(republican_dict))\n",
    "    if(democrat_freq>republican_freq):\n",
    "        print(str(democrat_freq) +\" \"+str(republican_freq))        \n",
    "        return \"democrat\"\n",
    "    else:\n",
    "        if(democrat_freq<republican_freq):\n",
    "            return \"republican\"\n",
    "            print(str(democrat_freq) +\" \"+str(republican_freq))\n",
    "   \n",
    "        else:\n",
    "            print(str(democrat_freq) +\" \"+str(republican_freq))\n",
    "            return \"neutral\""
   ]
  },
  {
   "cell_type": "code",
   "execution_count": 288,
   "id": "e5f04703",
   "metadata": {},
   "outputs": [
    {
     "name": "stdout",
     "output_type": "stream",
     "text": [
      "{'good': 0, 'security': 0, 'great': 0, 'unite': 0, 'senate': 0, 'thank': 0, 'meet': 0, 'hear': 0, 'join': 0, 'government': 0, 'flag': 0, 'church': 0, 'unemployment': 0, 'regulation': 0, 'obamacare': 0, 'fail': 0, 'better': 0, 'faith': 0, 'business': 0, 'small business': 0, 'romney': 0, 'leadership': 0, 'god': 0, 'debt': 0, 'spending': 0, 'success': 0, 'True\\r': 1, '': 13, '83\\r': 1, '48\\r': 1, '69\\r': 1, '70\\r': 1, '135\\r': 1, '102\\r': 1, \"'truncated':\": 1, 'False\\r': 1, '24\\r': 1, '120\\r': 1, '94\\r': 1, '18\\r': 1, '50\\r': 1}\n",
      "27 27\n",
      "neutral\n"
     ]
    }
   ],
   "source": [
    "print(political_analysis(dades))"
   ]
  },
  {
   "cell_type": "code",
   "execution_count": null,
   "id": "ed141afa",
   "metadata": {},
   "outputs": [],
   "source": []
  }
 ],
 "metadata": {
  "kernelspec": {
   "display_name": "Python 3",
   "language": "python",
   "name": "python3"
  },
  "language_info": {
   "codemirror_mode": {
    "name": "ipython",
    "version": 3
   },
   "file_extension": ".py",
   "mimetype": "text/x-python",
   "name": "python",
   "nbconvert_exporter": "python",
   "pygments_lexer": "ipython3",
   "version": "3.8.8"
  }
 },
 "nbformat": 4,
 "nbformat_minor": 5
}
