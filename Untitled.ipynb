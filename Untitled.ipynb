{
 "cells": [
  {
   "cell_type": "code",
   "execution_count": 216,
   "id": "005657c5",
   "metadata": {
    "scrolled": true
   },
   "outputs": [],
   "source": [
    "import emoji\n",
    "import numpy as np\n",
    "import os\n",
    "import lithops\n",
    "from lithops.storage import Storage\n",
    "import numpy as np\n",
    "import pandas as pd\n",
    "import io\n",
    "import csv\n",
    "import re\n",
    "import nltk\n"
   ]
  },
  {
   "cell_type": "code",
   "execution_count": 15,
   "id": "0a861033",
   "metadata": {},
   "outputs": [],
   "source": [
    "\n",
    "import sys\n",
    "try:\n",
    "    import lithops\n",
    "except:\n",
    "    !{sys.executable} -m pip install lithops\n",
    "    import lithops"
   ]
  },
  {
   "cell_type": "code",
   "execution_count": 20,
   "id": "a70c0bcc",
   "metadata": {
    "scrolled": true
   },
   "outputs": [],
   "source": [
    "config = {'ibm_cf':  {'endpoint' : 'https://eu-gb.functions.cloud.ibm.com',\n",
    "                      'namespace'   : 'ubenabdelkrim2@gmail.com_dev',\n",
    "                      'api_key'     : '7c45d3db-a61f-4ca6-afdd-45d749ebbda3:9Z1CfSBEeif85med0hgE9pefPC8KI6vrrCanErdmMKiajaMKKzfOd57TBQKF4E9I'}, \n",
    "          'ibm_cos': {'region'   : 'eu-de',\n",
    "                    'access_key' : '5286a241e5de460a96de29466c635424',\n",
    "                    'secret_key' : '1e4c0eaec93783aab1243240ffe8f0d90dbae5def4c9aeae'},\n",
    "          'lithops' : {'storage_bucket' : 'sd-task2'}}"
   ]
  },
  {
   "cell_type": "code",
   "execution_count": 21,
   "id": "6b4a9795",
   "metadata": {},
   "outputs": [
    {
     "name": "stderr",
     "output_type": "stream",
     "text": [
      "2021-06-17 21:22:24,604 [INFO] lithops.config -- Lithops v2.3.4\n",
      "2021-06-17 21:22:25,248 [INFO] lithops.storage.backends.ibm_cos.ibm_cos -- IBM COS Storage client created - Region: eu-de\n",
      "2021-06-17 21:22:25,249 [INFO] lithops.serverless.backends.ibm_cf.ibm_cf -- IBM CF client created - Region: eu-gb - Namespace: ubenabdelkrim2@gmail.com_dev\n",
      "2021-06-17 21:22:25,250 [INFO] lithops.executors -- Serverless Executor created with ID: cdce9b-0\n"
     ]
    }
   ],
   "source": [
    "fexec = lithops.FunctionExecutor(config=config)\n"
   ]
  },
  {
   "cell_type": "code",
   "execution_count": 103,
   "id": "30134bf5",
   "metadata": {},
   "outputs": [
    {
     "name": "stderr",
     "output_type": "stream",
     "text": [
      "2021-06-17 23:17:20,402 [INFO] lithops.storage.backends.ibm_cos.ibm_cos -- IBM COS Storage client created - Region: eu-de\n"
     ]
    }
   ],
   "source": [
    "storage=Storage()\n"
   ]
  },
  {
   "cell_type": "code",
   "execution_count": 202,
   "id": "6378ed82",
   "metadata": {
    "scrolled": false
   },
   "outputs": [
    {
     "name": "stdout",
     "output_type": "stream",
     "text": [
      "[['True\\r'], ['', \"'Los\", '@Topesdgama', 'y', '@Gearbest_Esp', 'están', 'sorteado', 'un', 'Mi6', '', 'participa', 'aquí:', \"https://t.co/heCfoDrb2A'\\r\"], ['', \"'Increíble\", 'TEST', 'DE', 'DESTRUCCIÓN', 'del', 'Samsung', 'Galaxy', 'S7', 'Edge', '|', 'Casi', 'Explota', \"https://t.co/zRziU0Z89k'\\r\"], ['', \"'Puedo\", 'llevarme', 'un', 'Samsung', 'Galaxy', 'S7', 'GRATIS!', 'Participa', 'aquí:', \"https://t.co/yZjaSvVXkP'\\r\"], ['', \"'Sorteo\", 'Samsung', 'Galaxy', 'S7', \"https://t.co/nJ0kepNQHc'\\r\"], ['', \"'Nexus\", '6P', 'International', '#Giveaway', '@androidauth', \"https://t.co/WBM7Vf3vIW'\\r\"], ['', \"'Galaxy\", 'S7', 'International', '#Giveaway', '@androidauth', \"https://t.co/RY2QrSc7NO'\\r\"], ['', \"'PARTICIPO\", 'EN', 'EL', 'SORTEO', 'HONOR', '7', 'DE', '@eloygomez', '&amp;', '@androtube', 'mas', 'info:', 'https://t.co/SFHzG3HMkK', 'ó', 'https://t.co/dYSfjGk4eR', \"#SORTEOHONOR7'\\r\"], ['', \"'Yo\", 'SI', 'participo', 'en', 'el', '#SorteoCellularLine', 'de', '@2x1digital', '¿y', 'tu', 'a', 'que', 'esperas?', '', \"https://t.co/io543Y8uRu'\\r\"], ['', \"'#OperaMax\", 'ayuda', 'a', 'ahorrar', 'los', 'datos', 'mientras', 've', 'Netflix!', 'Gana', 'un', 'Nexus', '6p', '', 'Nexus', 'Player', '', 'o', 'Sphero', 'BB8!', '', 'https://t.co/6pXB6KAXgu', \"#MaxNetflix'\\r\"], ['', \"'#directoTFB\", '', \"@ErnestDift'\\r\"], ['', \"'Estoy\", 'participando', 'en', 'el', '#SorteoXperiaZ5', 'de', '@TuTecnoMundo', 'para', 'ganarlo', 'Gratis.', '¡Deseadme', 'suerte!', \"https://t.co/wFAr4bHqW3'\\r\"], ['', \"'¡Voy\", 'a', 'ganar', 'el', 'OnePlus', '2', 'que', 'sortean', 'en', '@Andro4all!', 'http://t.co/TcKfPhprJy', \"#OnePlus2Andro4all'\\r\"], ['', \"'#OnePlus2Andro4all'\\r\"], ['\"', \"'Participo\", 'en', 'el', '#SorteoGalaxyS6', 'de', '@ProAndroides', '!\\'\"\"\\r'], ['', '\"\\r'], ['']]\n"
     ]
    }
   ],
   "source": [
    "dades = storage.get_object('sd-task2','dades.csv')\n",
    "x=dades.decode(\"utf-8\")\n",
    "\n",
    "\n",
    "missatges = []\n",
    "dades=x.split('\\n')\n",
    "for dada in dades:\n",
    "    missatges.append(dada.split(' '))\n",
    "    \n",
    "print(missatges)"
   ]
  },
  {
   "cell_type": "code",
   "execution_count": 232,
   "id": "3359555b",
   "metadata": {},
   "outputs": [
    {
     "name": "stdout",
     "output_type": "stream",
     "text": [
      "True 'Los y Esp están sorteado un Mi6 participa aquí: 'Increíble TEST DE DESTRUCCIÓN del Samsung Galaxy S7 Edge | Casi Explota 'Puedo llevarme un Samsung Galaxy S7 GRATIS! Participa aquí: 'Sorteo Samsung Galaxy S7 'Nexus 6P International Giveaway 'Galaxy S7 International Giveaway 'PARTICIPO EN EL SORTEO HONOR 7 DE &amp; mas info: ó SORTEOHONOR7' 'Yo SI participo en el SorteoCellularLine de ¿y tu a que esperas? 'OperaMax ayuda a ahorrar los datos mientras ve Netflix! Gana un Nexus 6p Nexus Player o Sphero BB8! MaxNetflix' 'directoTFB ' 'Estoy participando en el SorteoXperiaZ5 de para ganarlo Gratis. ¡Deseadme suerte! '¡Voy a ganar el OnePlus 2 que sortean en ! OnePlus2Andro4all' 'OnePlus2Andro4all' \" 'Participo en el SorteoGalaxyS6 de !'\"\" \"\n"
     ]
    }
   ],
   "source": [
    "def cleaner(tweet):\n",
    "    tweet = re.sub(\"@[A-Za-z0-9]+\",\"\",tweet) #Remove @ sign\n",
    "    tweet = re.sub(r\"(?:\\@|http?\\://|https?\\://|www)\\S+\", \"\", tweet) #Remove http links\n",
    "    tweet = \" \".join(tweet.split())\n",
    "    tweet = tweet.replace(\"#\", \"\").replace(\"_\", \" \") #Remove hashtag sign but keep the text\n",
    "    return tweet\n",
    "\n",
    "x=cleaner(x)\n",
    "print(x)\n"
   ]
  },
  {
   "cell_type": "code",
   "execution_count": null,
   "id": "72f0ed99",
   "metadata": {},
   "outputs": [],
   "source": []
  }
 ],
 "metadata": {
  "kernelspec": {
   "display_name": "Python 3",
   "language": "python",
   "name": "python3"
  },
  "language_info": {
   "codemirror_mode": {
    "name": "ipython",
    "version": 3
   },
   "file_extension": ".py",
   "mimetype": "text/x-python",
   "name": "python",
   "nbconvert_exporter": "python",
   "pygments_lexer": "ipython3",
   "version": "3.8.8"
  }
 },
 "nbformat": 4,
 "nbformat_minor": 5
}
