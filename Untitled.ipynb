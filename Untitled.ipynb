{
 "cells": [
  {
   "cell_type": "code",
   "execution_count": 24,
   "id": "005657c5",
   "metadata": {
    "scrolled": true
   },
   "outputs": [],
   "source": [
    "\n",
    "import numpy as np\n",
    "import os\n",
    "import lithops\n",
    "from lithops.storage import Storage\n"
   ]
  },
  {
   "cell_type": "code",
   "execution_count": 15,
   "id": "0a861033",
   "metadata": {},
   "outputs": [],
   "source": [
    "\n",
    "import sys\n",
    "try:\n",
    "    import lithops\n",
    "except:\n",
    "    !{sys.executable} -m pip install lithops\n",
    "    import lithops"
   ]
  },
  {
   "cell_type": "code",
   "execution_count": 20,
   "id": "a70c0bcc",
   "metadata": {
    "scrolled": true
   },
   "outputs": [],
   "source": [
    "config = {'ibm_cf':  {'endpoint' : 'https://eu-gb.functions.cloud.ibm.com',\n",
    "                      'namespace'   : 'ubenabdelkrim2@gmail.com_dev',\n",
    "                      'api_key'     : '7c45d3db-a61f-4ca6-afdd-45d749ebbda3:9Z1CfSBEeif85med0hgE9pefPC8KI6vrrCanErdmMKiajaMKKzfOd57TBQKF4E9I'}, \n",
    "          'ibm_cos': {'region'   : 'eu-de',\n",
    "                    'access_key' : '5286a241e5de460a96de29466c635424',\n",
    "                    'secret_key' : '1e4c0eaec93783aab1243240ffe8f0d90dbae5def4c9aeae'},\n",
    "          'lithops' : {'storage_bucket' : 'sd-task2'}}"
   ]
  },
  {
   "cell_type": "code",
   "execution_count": 21,
   "id": "6b4a9795",
   "metadata": {},
   "outputs": [
    {
     "name": "stderr",
     "output_type": "stream",
     "text": [
      "2021-06-17 21:22:24,604 [INFO] lithops.config -- Lithops v2.3.4\n",
      "2021-06-17 21:22:25,248 [INFO] lithops.storage.backends.ibm_cos.ibm_cos -- IBM COS Storage client created - Region: eu-de\n",
      "2021-06-17 21:22:25,249 [INFO] lithops.serverless.backends.ibm_cf.ibm_cf -- IBM CF client created - Region: eu-gb - Namespace: ubenabdelkrim2@gmail.com_dev\n",
      "2021-06-17 21:22:25,250 [INFO] lithops.executors -- Serverless Executor created with ID: cdce9b-0\n"
     ]
    }
   ],
   "source": [
    "fexec = lithops.FunctionExecutor(config=config)\n"
   ]
  },
  {
   "cell_type": "code",
   "execution_count": 103,
   "id": "30134bf5",
   "metadata": {},
   "outputs": [
    {
     "name": "stderr",
     "output_type": "stream",
     "text": [
      "2021-06-17 23:17:20,402 [INFO] lithops.storage.backends.ibm_cos.ibm_cos -- IBM COS Storage client created - Region: eu-de\n"
     ]
    }
   ],
   "source": [
    "storage=Storage()\n"
   ]
  },
  {
   "cell_type": "code",
   "execution_count": 122,
   "id": "6378ed82",
   "metadata": {},
   "outputs": [
    {
     "name": "stdout",
     "output_type": "stream",
     "text": [
      "b\",:,0,3,'\\r\\n ,',2,0,1,5,-,0,9,-,2,5, ,2,0,:,2,2,:,4,5,'\\r\\n ,',2,0,1,5,-,0,4,-,2,5, ,1,0,:,4,4,:,0,9,'\\r\\n\"\n"
     ]
    }
   ],
   "source": [
    "dades = storage.get_object('sd-task2','dades.csv')\n",
    "print(dades[-100:1000])"
   ]
  },
  {
   "cell_type": "code",
   "execution_count": null,
   "id": "f78caf9d",
   "metadata": {},
   "outputs": [],
   "source": []
  },
  {
   "cell_type": "code",
   "execution_count": null,
   "id": "6ce25060",
   "metadata": {},
   "outputs": [],
   "source": []
  }
 ],
 "metadata": {
  "kernelspec": {
   "display_name": "Python 3",
   "language": "python",
   "name": "python3"
  },
  "language_info": {
   "codemirror_mode": {
    "name": "ipython",
    "version": 3
   },
   "file_extension": ".py",
   "mimetype": "text/x-python",
   "name": "python",
   "nbconvert_exporter": "python",
   "pygments_lexer": "ipython3",
   "version": "3.8.8"
  }
 },
 "nbformat": 4,
 "nbformat_minor": 5
}
